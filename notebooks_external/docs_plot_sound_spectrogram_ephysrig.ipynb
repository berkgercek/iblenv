{
 "cells": [
  {
   "cell_type": "markdown",
   "metadata": {},
   "source": [
    "\n",
    "For a given session eid (ephys session), plot spectrogram of sound recorded via the microphone.\n"
   ]
  },
  {
   "cell_type": "code",
   "execution_count": null,
   "metadata": {},
   "outputs": [],
   "source": [
    "# Author: Gaelle Chapuis\n",
    "\n",
    "from ibllib.io.extractors.training_audio import welchogram\n",
    "import soundfile as sf\n",
    "import numpy as np\n",
    "import matplotlib.pyplot as plt\n",
    "# import alf.io\n",
    "from oneibl.one import ONE\n",
    "\n",
    "one = ONE()\n",
    "\n",
    "dataset_types = ['_iblrig_micData.raw']\n",
    "\n",
    "eid = '9a7e3a4b-8b68-4817-81f1-adb0f48088eb'  # TEST EXAMPLE\n",
    "\n",
    "one.load(eid, dataset_types=dataset_types, download_only=True)\n",
    "session_path = one.path_from_eid(eid)\n",
    "\n",
    "# -- Get raw data\n",
    "# data_raw = alf.io.load_object(session_path.joinpath('raw_behavior_data'),\n",
    "#                         'micData', namespace='iblrig')\n",
    "filename = session_path.joinpath('raw_behavior_data', '_iblrig_micData.raw.flac')\n",
    "\n",
    "with open(filename, 'rb') as f:\n",
    "    wav, fs = sf.read(f)\n",
    "\n",
    "# -- Compute spectrogram\n",
    "tscale, fscale, W, detect = welchogram(fs, wav)\n",
    "\n",
    "# -- Put data into single variable\n",
    "TF = {}\n",
    "\n",
    "TF['power'] = W.astype(np.single)\n",
    "TF['frequencies'] = fscale[None, :].astype(np.single)\n",
    "TF['onset_times'] = detect\n",
    "TF['times_mic'] = tscale[:, None].astype(np.single)\n",
    "\n",
    "# # -- Plot spectrogram\n",
    "tlims = TF['times_mic'][[0, -1]].flatten()\n",
    "flims = TF['frequencies'][0, [0, -1]].flatten()\n",
    "fig = plt.figure(figsize=[16, 7])\n",
    "ax = plt.axes()\n",
    "im = ax.imshow(20 * np.log10(TF['power'].T), aspect='auto', cmap=plt.get_cmap('magma'),\n",
    "               extent=np.concatenate((tlims, flims)),\n",
    "               origin='lower')\n",
    "ax.set_xlabel(r'Time (s)')\n",
    "ax.set_ylabel(r'Frequency (Hz)')\n",
    "plt.colorbar(im)\n",
    "# im.set_clim(-100, -60)"
   ]
  }
 ],
 "metadata": {
  "kernelspec": {
   "display_name": "Python 3",
   "language": "python",
   "name": "python3"
  },
  "language_info": {
   "codemirror_mode": {
    "name": "ipython",
    "version": 3
   },
   "file_extension": ".py",
   "mimetype": "text/x-python",
   "name": "python",
   "nbconvert_exporter": "python",
   "pygments_lexer": "ipython3",
   "version": "3.7.7"
  }
 },
 "nbformat": 4,
 "nbformat_minor": 0
}
