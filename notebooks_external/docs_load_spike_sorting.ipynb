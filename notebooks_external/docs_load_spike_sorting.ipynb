{
 "cells": [
  {
   "cell_type": "markdown",
   "metadata": {},
   "source": [
    "# Get spikes, clusters and channels data\n",
    "Downloads and loads in spikes, clusters and channels data for a given session. Data is returned\n"
   ]
  },
  {
   "cell_type": "code",
   "execution_count": null,
   "metadata": {
    "execution": {
     "iopub.execute_input": "2021-10-21T16:31:55.127104Z",
     "iopub.status.busy": "2021-10-21T16:31:55.127104Z",
     "iopub.status.idle": "2021-10-21T16:32:01.728838Z",
     "shell.execute_reply": "2021-10-21T16:32:01.728838Z"
    }
   },
   "outputs": [],
   "source": [
    "import brainbox.io.one as bbone\n",
    "\n",
    "from one.api import ONE\n",
    "\n",
    "one = ONE(base_url='https://openalyx.internationalbrainlab.org', silent=True)\n",
    "\n",
    "# Find eid of interest\n",
    "eid = one.search(subject='CSH_ZAD_029', date='2020-09-19')[0]"
   ]
  },
  {
   "cell_type": "markdown",
   "metadata": {},
   "source": [
    "Example 1:\n",
    "Download spikes, clusters and channels data for all available probes for this session.\n",
    "The data for each probe is returned as a dict\n",
    "\n"
   ]
  },
  {
   "cell_type": "code",
   "execution_count": null,
   "metadata": {
    "execution": {
     "iopub.execute_input": "2021-10-21T16:32:01.728838Z",
     "iopub.status.busy": "2021-10-21T16:32:01.728838Z",
     "iopub.status.idle": "2021-10-21T16:32:04.986770Z",
     "shell.execute_reply": "2021-10-21T16:32:04.986770Z"
    }
   },
   "outputs": [],
   "source": [
    "spikes, clusters, channels = bbone.load_spike_sorting_with_channel(eid, one=one)\n",
    "print(spikes.keys())\n",
    "print(spikes['probe01'].keys())"
   ]
  },
  {
   "cell_type": "markdown",
   "metadata": {},
   "source": [
    "Example 2:\n",
    "Download spikes, clusters and channels data for a single probe\n",
    "\n"
   ]
  },
  {
   "cell_type": "code",
   "execution_count": null,
   "metadata": {
    "execution": {
     "iopub.execute_input": "2021-10-21T16:32:04.986770Z",
     "iopub.status.busy": "2021-10-21T16:32:04.986770Z",
     "iopub.status.idle": "2021-10-21T16:32:08.107738Z",
     "shell.execute_reply": "2021-10-21T16:32:08.107738Z"
    }
   },
   "outputs": [],
   "source": [
    "spikes, clusters, channels = bbone.load_spike_sorting_with_channel(eid, one=one, probe='probe01')\n",
    "print(spikes.keys())"
   ]
  },
  {
   "cell_type": "markdown",
   "metadata": {},
   "source": [
    "Example 3:\n",
    "The default spikes and clusters datasets that are downloaded are '\n",
    "['clusters.channels',\n",
    " 'clusters.depths',\n",
    " 'clusters.metrics',\n",
    " 'spikes.clusters',\n",
    " 'spikes.times']\n",
    "If we also want to load for example, 'clusters.peakToTrough we can add a dataset_types argument\n",
    "\n"
   ]
  },
  {
   "cell_type": "code",
   "execution_count": null,
   "metadata": {
    "execution": {
     "iopub.execute_input": "2021-10-21T16:32:08.107738Z",
     "iopub.status.busy": "2021-10-21T16:32:08.107738Z",
     "iopub.status.idle": "2021-10-21T16:32:11.275576Z",
     "shell.execute_reply": "2021-10-21T16:32:11.275576Z"
    },
    "pycharm": {
     "name": "#%%\n"
    }
   },
   "outputs": [],
   "source": [
    "spikes, clusters, channels = bbone.load_spike_sorting_with_channel(eid, one=one, probe='probe01',\n",
    "                                                                   dataset_types=['clusters.peakToTrough'])\n",
    "print(clusters['probe01'].keys())\n",
    "\n"
   ]
  }
 ],
 "metadata": {
  "docs_executed": "executed",
  "kernelspec": {
   "display_name": "Python [conda env:iblenv] *",
   "language": "python",
   "name": "conda-env-iblenv-py"
  },
  "language_info": {
   "codemirror_mode": {
    "name": "ipython",
    "version": 3
   },
   "file_extension": ".py",
   "mimetype": "text/x-python",
   "name": "python",
   "nbconvert_exporter": "python",
   "pygments_lexer": "ipython3",
   "version": "3.9.7"
  }
 },
 "nbformat": 4,
 "nbformat_minor": 1
}
