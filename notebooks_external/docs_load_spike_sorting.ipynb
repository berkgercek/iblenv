{
 "cells": [
  {
   "cell_type": "markdown",
   "metadata": {},
   "source": [
    "\n",
    "# Get spikes, clusters and channels data\n",
    "Downloads and loads in spikes, clusters and channels data for a given session. Data is returned\n"
   ]
  },
  {
   "cell_type": "code",
   "execution_count": null,
   "metadata": {},
   "outputs": [],
   "source": [
    "from oneibl.one import ONE\n",
    "import brainbox.io.one as bbone\n",
    "one = ONE()\n",
    "\n",
    "# Find eid of interest\n",
    "eid = one.search(subject='CSH_ZAD_001', date='2020-01-14')[0]"
   ]
  },
  {
   "cell_type": "markdown",
   "metadata": {},
   "source": [
    "Example 1:\n",
    "Download spikes, clusters and channels data for all available probes for this session.\n",
    "The data for each probe is returned as a dict\n",
    "\n"
   ]
  },
  {
   "cell_type": "code",
   "execution_count": null,
   "metadata": {},
   "outputs": [],
   "source": [
    "spikes, clusters, channels = bbone.load_spike_sorting_with_channel(eid, one=one)\n",
    "print(spikes.keys())\n",
    "print(spikes['probe00'].keys())"
   ]
  },
  {
   "cell_type": "markdown",
   "metadata": {},
   "source": [
    "Example 2:\n",
    "Download spikes, clusters and channels data for a single probe\n",
    "\n"
   ]
  },
  {
   "cell_type": "code",
   "execution_count": null,
   "metadata": {},
   "outputs": [],
   "source": [
    "spikes, clusters, channels = bbone.load_spike_sorting_with_channel(eid, one=one, probe='probe00')\n",
    "print(spikes.keys())"
   ]
  },
  {
   "cell_type": "markdown",
   "metadata": {},
   "source": [
    "Example 3:\n",
    "The default spikes and clusters datasets that are downloaded are '\n",
    "['clusters.channels',\n",
    " 'clusters.depths',\n",
    " 'clusters.metrics',\n",
    " 'spikes.clusters',\n",
    " 'spikes.times']\n",
    "If we also want to load for example, 'clusters.peakToTrough we can add a dataset_types argument\n",
    "\n"
   ]
  },
  {
   "cell_type": "code",
   "execution_count": null,
   "metadata": {},
   "outputs": [],
   "source": [
    "dtypes_extra = ['clusters.peakToTrough']\n",
    "spikes, clusters, channels = bbone.load_spike_sorting_with_channel(eid, one=one, probe='probe00',\n",
    "                                                                   dataset_types=dtypes_extra)\n",
    "print(clusters['probe00'].keys())"
   ]
  },
  {
   "cell_type": "markdown",
   "metadata": {},
   "source": [
    "Example 4:\n",
    "By default, load_spike_sorting_with_channel will look for available data on your\n",
    "local computer and if all the datasets are found it will not check for consistency with files\n",
    "stored on flatiron (to speed up loading process). To make sure that data is always synced to\n",
    "flatiron we can set a force flag to True\n",
    "\n"
   ]
  },
  {
   "cell_type": "code",
   "execution_count": null,
   "metadata": {},
   "outputs": [],
   "source": [
    "spikes, clusters, channels = bbone.load_spike_sorting_with_channel(eid, one=one, probe='probe00',\n",
    "                                                                   force=True)"
   ]
  }
 ],
 "metadata": {
  "kernelspec": {
   "display_name": "Python 3",
   "language": "python",
   "name": "python3"
  },
  "language_info": {
   "codemirror_mode": {
    "name": "ipython",
    "version": 3
   },
   "file_extension": ".py",
   "mimetype": "text/x-python",
   "name": "python",
   "nbconvert_exporter": "python",
   "pygments_lexer": "ipython3",
   "version": "3.7.7"
  }
 },
 "nbformat": 4,
 "nbformat_minor": 0
}
