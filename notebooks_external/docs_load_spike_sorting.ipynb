{
 "cells": [
  {
   "cell_type": "markdown",
   "metadata": {},
   "source": [
    "\n",
    "# Get spikes, clusters and channels data\n",
    "Downloads and loads in spikes, clusters and channels data for a given session. Data is returned\n"
   ]
  },
  {
   "cell_type": "code",
   "execution_count": null,
   "metadata": {
    "execution": {
     "iopub.execute_input": "2021-09-02T14:49:55.457585Z",
     "iopub.status.busy": "2021-09-02T14:49:55.456596Z",
     "iopub.status.idle": "2021-09-02T14:50:02.791452Z",
     "shell.execute_reply": "2021-09-02T14:50:02.790453Z"
    }
   },
   "outputs": [],
   "source": [
    "import brainbox.io.one as bbone\n",
    "\n",
    "from one.api import ONE\n",
    "\n",
    "one = ONE(base_url='https://openalyx.internationalbrainlab.org', silent=True)\n",
    "\n",
    "# Find eid of interest\n",
    "eid = one.search(subject='CSH_ZAD_029', date='2020-09-19')[0]"
   ]
  },
  {
   "cell_type": "markdown",
   "metadata": {},
   "source": [
    "Example 1:\n",
    "Download spikes, clusters and channels data for all available probes for this session.\n",
    "The data for each probe is returned as a dict\n",
    "\n"
   ]
  },
  {
   "cell_type": "code",
   "execution_count": null,
   "metadata": {
    "execution": {
     "iopub.execute_input": "2021-09-02T14:50:02.796453Z",
     "iopub.status.busy": "2021-09-02T14:50:02.796453Z",
     "iopub.status.idle": "2021-09-02T14:50:06.263201Z",
     "shell.execute_reply": "2021-09-02T14:50:06.262205Z"
    }
   },
   "outputs": [],
   "source": [
    "spikes, clusters, channels = bbone.load_spike_sorting_with_channel(eid, one=one)\n",
    "print(spikes.keys())\n",
    "print(spikes['probe01'].keys())"
   ]
  },
  {
   "cell_type": "markdown",
   "metadata": {},
   "source": [
    "Example 2:\n",
    "Download spikes, clusters and channels data for a single probe\n",
    "\n"
   ]
  },
  {
   "cell_type": "code",
   "execution_count": null,
   "metadata": {
    "execution": {
     "iopub.execute_input": "2021-09-02T14:50:06.279201Z",
     "iopub.status.busy": "2021-09-02T14:50:06.274201Z",
     "iopub.status.idle": "2021-09-02T14:50:09.617286Z",
     "shell.execute_reply": "2021-09-02T14:50:09.616339Z"
    }
   },
   "outputs": [],
   "source": [
    "spikes, clusters, channels = bbone.load_spike_sorting_with_channel(eid, one=one, probe='probe01')\n",
    "print(spikes.keys())"
   ]
  },
  {
   "cell_type": "markdown",
   "metadata": {},
   "source": [
    "Example 3:\n",
    "The default spikes and clusters datasets that are downloaded are '\n",
    "['clusters.channels',\n",
    " 'clusters.depths',\n",
    " 'clusters.metrics',\n",
    " 'spikes.clusters',\n",
    " 'spikes.times']\n",
    "If we also want to load for example, 'clusters.peakToTrough we can add a dataset_types argument\n",
    "\n"
   ]
  },
  {
   "cell_type": "code",
   "execution_count": null,
   "metadata": {
    "execution": {
     "iopub.execute_input": "2021-09-02T14:50:09.628287Z",
     "iopub.status.busy": "2021-09-02T14:50:09.622314Z",
     "iopub.status.idle": "2021-09-02T14:50:12.875432Z",
     "shell.execute_reply": "2021-09-02T14:50:12.873436Z"
    }
   },
   "outputs": [],
   "source": [
    "spikes, clusters, channels = bbone.load_spike_sorting_with_channel(eid, one=one, probe='probe01',\n",
    "                                                                   dataset_types=['clusters.peakToTrough'])\n",
    "print(clusters['probe01'].keys())"
   ]
  }
 ],
 "metadata": {
  "docs_executed": "executed",
  "kernelspec": {
   "display_name": "Python 3",
   "language": "python",
   "name": "python3"
  },
  "language_info": {
   "codemirror_mode": {
    "name": "ipython",
    "version": 3
   },
   "file_extension": ".py",
   "mimetype": "text/x-python",
   "name": "python",
   "nbconvert_exporter": "python",
   "pygments_lexer": "ipython3",
   "version": "3.9.5"
  }
 },
 "nbformat": 4,
 "nbformat_minor": 0
}
