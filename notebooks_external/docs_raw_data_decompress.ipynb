{
 "cells": [
  {
   "cell_type": "markdown",
   "metadata": {},
   "source": [
    "\n",
    "# Download and decompress raw ephys data\n",
    "\n",
    "This code demonstrates how to decompress raw ephys (binary) data - This is necessary for some\n",
    "client codes (such as Matlab spike sorting KS2 algorithm) to run\n",
    "\n",
    "(example taken for nidq.cbin file, but also applicable for lf.cbin and ap.cbin files)\n"
   ]
  },
  {
   "cell_type": "code",
   "execution_count": null,
   "metadata": {},
   "outputs": [],
   "source": [
    "# Author: Olivier, Gaelle, Mayo\n",
    "\n",
    "from ibllib.io import spikeglx\n",
    "from pathlib import Path\n",
    "from oneibl.one import ONE\n",
    "\n",
    "one = ONE()\n",
    "# Download a dataset of interest\n",
    "eid = one.search(subject='ZM_2240', date_range='2020-01-22')[0]\n",
    "\n",
    "dtypes = ['ephysData.raw.nidq',  # change this to ephysData.raw.lf or ephysData.raw.ap for\n",
    "          'ephysData.raw.ch',\n",
    "          'ephysData.raw.meta']\n",
    "\n",
    "\n",
    "_ = one.load(eid, dataset_types=dtypes, download_only=True)\n",
    "\n",
    "# Get file paths of interest\n",
    "raw_ephys_path = one.path_from_eid(eid).joinpath('raw_ephys_data')\n",
    "efile = raw_ephys_path.joinpath('_spikeglx_ephysData_g0_t0.nidq.cbin')\n",
    "\n",
    "# Read the files and get the data\n",
    "# Enough to do analysis\n",
    "sr = spikeglx.Reader(efile)\n",
    "\n",
    "# Decompress the data\n",
    "# Used by client code, e.g. Matlab for spike sorting\n",
    "# Give new path output name\n",
    "sr.decompress_file(keep_original=True, overwrite=True)  # Keep the original file and overwrite any\n",
    "# previously decompressed file"
   ]
  }
 ],
 "metadata": {
  "docs_executed": "executed",
  "kernelspec": {
   "display_name": "Python 3",
   "language": "python",
   "name": "python3"
  },
  "language_info": {
   "codemirror_mode": {
    "name": "ipython",
    "version": 3
   },
   "file_extension": ".py",
   "mimetype": "text/x-python",
   "name": "python",
   "nbconvert_exporter": "python",
   "pygments_lexer": "ipython3",
   "version": "3.7.7"
  }
 },
 "nbformat": 4,
 "nbformat_minor": 0
}
