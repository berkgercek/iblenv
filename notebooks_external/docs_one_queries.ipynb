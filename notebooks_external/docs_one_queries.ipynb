{
 "cells": [
  {
   "cell_type": "markdown",
   "metadata": {},
   "source": [
    "\n",
    "# List of useful one queries\n"
   ]
  },
  {
   "cell_type": "code",
   "execution_count": null,
   "metadata": {
    "execution": {
     "iopub.execute_input": "2021-09-02T14:45:38.452819Z",
     "iopub.status.busy": "2021-09-02T14:45:38.451819Z",
     "iopub.status.idle": "2021-09-02T14:45:39.682616Z",
     "shell.execute_reply": "2021-09-02T14:45:39.681655Z"
    }
   },
   "outputs": [],
   "source": [
    "from one.api import ONE\n",
    "one = ONE(base_url='https://openalyx.internationalbrainlab.org', silent=True)"
   ]
  },
  {
   "cell_type": "markdown",
   "metadata": {},
   "source": [
    "Query session for several subjects\n",
    "\n"
   ]
  },
  {
   "cell_type": "code",
   "execution_count": null,
   "metadata": {
    "execution": {
     "iopub.execute_input": "2021-09-02T14:45:39.689661Z",
     "iopub.status.busy": "2021-09-02T14:45:39.688655Z",
     "iopub.status.idle": "2021-09-02T14:45:39.900238Z",
     "shell.execute_reply": "2021-09-02T14:45:39.899240Z"
    }
   },
   "outputs": [],
   "source": [
    "subjects = ['DY_003', 'DY_006']\n",
    "ses = one.alyx.rest('sessions', 'list', django=f\"subject__nickname__in,{subjects}\")"
   ]
  },
  {
   "cell_type": "markdown",
   "metadata": {},
   "source": [
    "Query sessions that have histology available\n",
    "\n"
   ]
  },
  {
   "cell_type": "code",
   "execution_count": null,
   "metadata": {
    "execution": {
     "iopub.execute_input": "2021-09-02T14:45:39.907236Z",
     "iopub.status.busy": "2021-09-02T14:45:39.906237Z",
     "iopub.status.idle": "2021-09-02T14:45:40.325936Z",
     "shell.execute_reply": "2021-09-02T14:45:40.327923Z"
    }
   },
   "outputs": [],
   "source": [
    "ses = one.alyx.rest('sessions', 'list', histology=True)\n",
    "# the generic way\n",
    "ses = one.alyx.rest('sessions', 'list',\n",
    "                    django=\"subject__actions_sessions__procedures__name,Histology\")"
   ]
  },
  {
   "cell_type": "markdown",
   "metadata": {},
   "source": [
    "Query sessions that do not have matlab in the project name\n",
    "\n"
   ]
  },
  {
   "cell_type": "code",
   "execution_count": null,
   "metadata": {
    "execution": {
     "iopub.execute_input": "2021-09-02T14:45:40.334922Z",
     "iopub.status.busy": "2021-09-02T14:45:40.333919Z",
     "iopub.status.idle": "2021-09-02T14:45:40.637765Z",
     "shell.execute_reply": "2021-09-02T14:45:40.637460Z"
    }
   },
   "outputs": [],
   "source": [
    "ses = one.alyx.rest('sessions', 'list', django='~project__name__icontains,matlab')"
   ]
  },
  {
   "cell_type": "markdown",
   "metadata": {},
   "source": [
    "Query sessions that do not contain a given dataset type\n",
    "\n"
   ]
  },
  {
   "cell_type": "code",
   "execution_count": null,
   "metadata": {
    "execution": {
     "iopub.execute_input": "2021-09-02T14:45:40.642818Z",
     "iopub.status.busy": "2021-09-02T14:45:40.641781Z",
     "iopub.status.idle": "2021-09-02T14:45:40.934395Z",
     "shell.execute_reply": "2021-09-02T14:45:40.933395Z"
    }
   },
   "outputs": [],
   "source": [
    "ses = one.alyx.rest('sessions', 'list',\n",
    "                    django='~data_dataset_session_related__dataset_type__name__icontains,wheel')"
   ]
  },
  {
   "cell_type": "markdown",
   "metadata": {},
   "source": [
    "Query all sessions not labelled as CRITICAL\n",
    "\n"
   ]
  },
  {
   "cell_type": "code",
   "execution_count": null,
   "metadata": {
    "execution": {
     "iopub.execute_input": "2021-09-02T14:45:40.939393Z",
     "iopub.status.busy": "2021-09-02T14:45:40.938351Z",
     "iopub.status.idle": "2021-09-02T14:45:41.139482Z",
     "shell.execute_reply": "2021-09-02T14:45:41.138482Z"
    }
   },
   "outputs": [],
   "source": [
    "ses = one.alyx.rest('sessions', 'list', django='qc__lt,50')"
   ]
  },
  {
   "cell_type": "markdown",
   "metadata": {},
   "source": [
    "Query probe insertions for a given task protocol\n",
    "\n"
   ]
  },
  {
   "cell_type": "code",
   "execution_count": null,
   "metadata": {
    "execution": {
     "iopub.execute_input": "2021-09-02T14:45:41.144481Z",
     "iopub.status.busy": "2021-09-02T14:45:41.143482Z",
     "iopub.status.idle": "2021-09-02T14:45:41.566149Z",
     "shell.execute_reply": "2021-09-02T14:45:41.565114Z"
    }
   },
   "outputs": [],
   "source": [
    "ins = one.alyx.rest('insertions', 'list', django='session__task_protocol__icontains,choiceworld')"
   ]
  },
  {
   "cell_type": "markdown",
   "metadata": {},
   "source": [
    "Query trajectories with channels in given brain region\n",
    "\n"
   ]
  },
  {
   "cell_type": "code",
   "execution_count": null,
   "metadata": {
    "execution": {
     "iopub.execute_input": "2021-09-02T14:45:41.572110Z",
     "iopub.status.busy": "2021-09-02T14:45:41.572110Z",
     "iopub.status.idle": "2021-09-02T14:45:41.815195Z",
     "shell.execute_reply": "2021-09-02T14:45:41.816192Z"
    }
   },
   "outputs": [],
   "source": [
    "trajs = one.alyx.rest('trajectories', 'list', django='channels__brain_region__name__icontains,'\n",
    "                                                     'Entorhinal area medial part dorsal zone '\n",
    "                                                     'layer 2')"
   ]
  },
  {
   "cell_type": "markdown",
   "metadata": {},
   "source": [
    "Query spikesorting tasks that have errored in angelaki lab\n",
    "\n"
   ]
  },
  {
   "cell_type": "code",
   "execution_count": null,
   "metadata": {
    "execution": {
     "iopub.execute_input": "2021-09-02T14:45:41.820194Z",
     "iopub.status.busy": "2021-09-02T14:45:41.819197Z",
     "iopub.status.idle": "2021-09-02T14:45:42.086192Z",
     "shell.execute_reply": "2021-09-02T14:45:42.085192Z"
    }
   },
   "outputs": [],
   "source": [
    "errored = one.alyx.rest('tasks', 'list', status='Errored', lab='angelakilab',\n",
    "                        name='SpikeSorting')"
   ]
  },
  {
   "cell_type": "markdown",
   "metadata": {},
   "source": [
    "Query ephys sessions that have errored tasks\n",
    "\n"
   ]
  },
  {
   "cell_type": "code",
   "execution_count": null,
   "metadata": {
    "execution": {
     "iopub.execute_input": "2021-09-02T14:45:42.090191Z",
     "iopub.status.busy": "2021-09-02T14:45:42.089191Z",
     "iopub.status.idle": "2021-09-02T14:45:42.372193Z",
     "shell.execute_reply": "2021-09-02T14:45:42.372193Z"
    }
   },
   "outputs": [],
   "source": [
    "ses = one.alyx.rest('sessions', 'list', task_protocol='ephys', django='tasks__status,40')"
   ]
  },
  {
   "cell_type": "markdown",
   "metadata": {},
   "source": [
    "Query insertions that have alignment resolved\n",
    "\n"
   ]
  },
  {
   "cell_type": "code",
   "execution_count": null,
   "metadata": {
    "execution": {
     "iopub.execute_input": "2021-09-02T14:45:42.376192Z",
     "iopub.status.busy": "2021-09-02T14:45:42.376192Z",
     "iopub.status.idle": "2021-09-02T14:45:42.846192Z",
     "shell.execute_reply": "2021-09-02T14:45:42.845194Z"
    }
   },
   "outputs": [],
   "source": [
    "ins = one.alyx.rest('insertions', 'list', django='json__extended_qc__alignment_resolved,True')"
   ]
  },
  {
   "cell_type": "markdown",
   "metadata": {},
   "source": [
    "Get names of users who have aligned specified insertion\n",
    "\n"
   ]
  },
  {
   "cell_type": "code",
   "execution_count": null,
   "metadata": {
    "execution": {
     "iopub.execute_input": "2021-09-02T14:45:42.850191Z",
     "iopub.status.busy": "2021-09-02T14:45:42.850191Z",
     "iopub.status.idle": "2021-09-02T14:45:43.273195Z",
     "shell.execute_reply": "2021-09-02T14:45:43.274195Z"
    }
   },
   "outputs": [],
   "source": [
    "names = one.alyx.rest('trajectories', 'list', provenance='Ephys aligned histology track',\n",
    "                      probe_insertion='b749446c-18e3-4987-820a-50649ab0f826')[0]['json'].keys()"
   ]
  },
  {
   "cell_type": "markdown",
   "metadata": {},
   "source": [
    "List all sessions which any video QC set\n",
    "\n"
   ]
  },
  {
   "cell_type": "code",
   "execution_count": null,
   "metadata": {
    "execution": {
     "iopub.execute_input": "2021-09-02T14:45:43.277193Z",
     "iopub.status.busy": "2021-09-02T14:45:43.277193Z",
     "iopub.status.idle": "2021-09-02T14:45:43.657192Z",
     "shell.execute_reply": "2021-09-02T14:45:43.655193Z"
    }
   },
   "outputs": [],
   "source": [
    "keys = ('videoLeft', 'videoRight', 'videoBody')\n",
    "ses = one.alyx.rest('sessions', 'list', django=f'extended_qc__has_any_keys,{keys}')"
   ]
  },
  {
   "cell_type": "markdown",
   "metadata": {},
   "source": [
    "List all weighings for a given date\n",
    "\n"
   ]
  },
  {
   "cell_type": "code",
   "execution_count": null,
   "metadata": {
    "execution": {
     "iopub.execute_input": "2021-09-02T14:45:43.661196Z",
     "iopub.status.busy": "2021-09-02T14:45:43.660191Z",
     "iopub.status.idle": "2021-09-02T14:45:43.941196Z",
     "shell.execute_reply": "2021-09-02T14:45:43.941196Z"
    }
   },
   "outputs": [],
   "source": [
    "date = '2021-02-05'\n",
    "weighings = one.alyx.rest('weighings', 'list', django=f'date_time__date,{date}')"
   ]
  }
 ],
 "metadata": {
  "docs_executed": "executed",
  "kernelspec": {
   "display_name": "Python 3",
   "language": "python",
   "name": "python3"
  },
  "language_info": {
   "codemirror_mode": {
    "name": "ipython",
    "version": 3
   },
   "file_extension": ".py",
   "mimetype": "text/x-python",
   "name": "python",
   "nbconvert_exporter": "python",
   "pygments_lexer": "ipython3",
   "version": "3.9.5"
  }
 },
 "nbformat": 4,
 "nbformat_minor": 0
}
