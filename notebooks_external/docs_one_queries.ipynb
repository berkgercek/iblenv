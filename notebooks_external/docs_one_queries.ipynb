{
 "cells": [
  {
   "cell_type": "markdown",
   "metadata": {},
   "source": [
    "\n",
    "# List of useful one queries\n"
   ]
  },
  {
   "cell_type": "code",
   "execution_count": null,
   "metadata": {
    "execution": {
     "iopub.execute_input": "2021-11-09T10:49:32.264148Z",
     "iopub.status.busy": "2021-11-09T10:49:32.264148Z",
     "iopub.status.idle": "2021-11-09T10:49:33.520433Z",
     "shell.execute_reply": "2021-11-09T10:49:33.518473Z"
    }
   },
   "outputs": [],
   "source": [
    "from one.api import ONE\n",
    "one = ONE(base_url='https://openalyx.internationalbrainlab.org', silent=True)"
   ]
  },
  {
   "cell_type": "markdown",
   "metadata": {},
   "source": [
    "Query session for several subjects\n",
    "\n"
   ]
  },
  {
   "cell_type": "code",
   "execution_count": null,
   "metadata": {
    "execution": {
     "iopub.execute_input": "2021-11-09T10:49:33.525431Z",
     "iopub.status.busy": "2021-11-09T10:49:33.525431Z",
     "iopub.status.idle": "2021-11-09T10:49:33.547430Z",
     "shell.execute_reply": "2021-11-09T10:49:33.546430Z"
    }
   },
   "outputs": [],
   "source": [
    "subjects = ['DY_003', 'DY_006']\n",
    "ses = one.alyx.rest('sessions', 'list', django=f\"subject__nickname__in,{subjects}\")"
   ]
  },
  {
   "cell_type": "markdown",
   "metadata": {},
   "source": [
    "Query sessions that have histology available\n",
    "\n"
   ]
  },
  {
   "cell_type": "code",
   "execution_count": null,
   "metadata": {
    "execution": {
     "iopub.execute_input": "2021-11-09T10:49:33.551434Z",
     "iopub.status.busy": "2021-11-09T10:49:33.551434Z",
     "iopub.status.idle": "2021-11-09T10:49:33.578431Z",
     "shell.execute_reply": "2021-11-09T10:49:33.579430Z"
    }
   },
   "outputs": [],
   "source": [
    "ses = one.alyx.rest('sessions', 'list', histology=True)\n",
    "# the generic way\n",
    "ses = one.alyx.rest('sessions', 'list',\n",
    "                    django=\"subject__actions_sessions__procedures__name,Histology\")"
   ]
  },
  {
   "cell_type": "markdown",
   "metadata": {},
   "source": [
    "Query sessions that do not have matlab in the project name\n",
    "\n"
   ]
  },
  {
   "cell_type": "code",
   "execution_count": null,
   "metadata": {
    "execution": {
     "iopub.execute_input": "2021-11-09T10:49:33.586435Z",
     "iopub.status.busy": "2021-11-09T10:49:33.585434Z",
     "iopub.status.idle": "2021-11-09T10:49:33.608431Z",
     "shell.execute_reply": "2021-11-09T10:49:33.609433Z"
    }
   },
   "outputs": [],
   "source": [
    "ses = one.alyx.rest('sessions', 'list', django='~project__name__icontains,matlab')"
   ]
  },
  {
   "cell_type": "markdown",
   "metadata": {},
   "source": [
    "Query sessions that do not contain a given dataset type\n",
    "\n"
   ]
  },
  {
   "cell_type": "code",
   "execution_count": null,
   "metadata": {
    "execution": {
     "iopub.execute_input": "2021-11-09T10:49:33.616430Z",
     "iopub.status.busy": "2021-11-09T10:49:33.615432Z",
     "iopub.status.idle": "2021-11-09T10:49:33.651431Z",
     "shell.execute_reply": "2021-11-09T10:49:33.652431Z"
    }
   },
   "outputs": [],
   "source": [
    "ses = one.alyx.rest('sessions', 'list',\n",
    "                    django='~data_dataset_session_related__dataset_type__name__icontains,wheel')"
   ]
  },
  {
   "cell_type": "markdown",
   "metadata": {},
   "source": [
    "Query all sessions not labelled as CRITICAL\n",
    "\n"
   ]
  },
  {
   "cell_type": "code",
   "execution_count": null,
   "metadata": {
    "execution": {
     "iopub.execute_input": "2021-11-09T10:49:33.659435Z",
     "iopub.status.busy": "2021-11-09T10:49:33.658434Z",
     "iopub.status.idle": "2021-11-09T10:49:33.682431Z",
     "shell.execute_reply": "2021-11-09T10:49:33.681430Z"
    }
   },
   "outputs": [],
   "source": [
    "ses = one.alyx.rest('sessions', 'list', django='qc__lt,50')"
   ]
  },
  {
   "cell_type": "markdown",
   "metadata": {},
   "source": [
    "Query probe insertions for a given task protocol\n",
    "\n"
   ]
  },
  {
   "cell_type": "code",
   "execution_count": null,
   "metadata": {
    "execution": {
     "iopub.execute_input": "2021-11-09T10:49:33.686431Z",
     "iopub.status.busy": "2021-11-09T10:49:33.686431Z",
     "iopub.status.idle": "2021-11-09T10:49:34.042431Z",
     "shell.execute_reply": "2021-11-09T10:49:34.043431Z"
    }
   },
   "outputs": [],
   "source": [
    "ins = one.alyx.rest('insertions', 'list', django='session__task_protocol__icontains,choiceworld')"
   ]
  },
  {
   "cell_type": "markdown",
   "metadata": {},
   "source": [
    "Query trajectories with channels in given brain region\n",
    "\n"
   ]
  },
  {
   "cell_type": "code",
   "execution_count": null,
   "metadata": {
    "execution": {
     "iopub.execute_input": "2021-11-09T10:49:34.049430Z",
     "iopub.status.busy": "2021-11-09T10:49:34.049430Z",
     "iopub.status.idle": "2021-11-09T10:49:34.266904Z",
     "shell.execute_reply": "2021-11-09T10:49:34.266904Z"
    }
   },
   "outputs": [],
   "source": [
    "trajs = one.alyx.rest('trajectories', 'list', django='channels__brain_region__name__icontains,'\n",
    "                                                     'Entorhinal area medial part dorsal zone '\n",
    "                                                     'layer 2')"
   ]
  },
  {
   "cell_type": "markdown",
   "metadata": {},
   "source": [
    "Query spikesorting tasks that have errored in angelaki lab\n",
    "\n"
   ]
  },
  {
   "cell_type": "code",
   "execution_count": null,
   "metadata": {
    "execution": {
     "iopub.execute_input": "2021-11-09T10:49:34.271906Z",
     "iopub.status.busy": "2021-11-09T10:49:34.270905Z",
     "iopub.status.idle": "2021-11-09T10:49:34.516357Z",
     "shell.execute_reply": "2021-11-09T10:49:34.514361Z"
    }
   },
   "outputs": [],
   "source": [
    "errored = one.alyx.rest('tasks', 'list', status='Errored', lab='angelakilab',\n",
    "                        name='SpikeSorting')"
   ]
  },
  {
   "cell_type": "markdown",
   "metadata": {},
   "source": [
    "Query ephys sessions that have errored tasks\n",
    "\n"
   ]
  },
  {
   "cell_type": "code",
   "execution_count": null,
   "metadata": {
    "execution": {
     "iopub.execute_input": "2021-11-09T10:49:34.533369Z",
     "iopub.status.busy": "2021-11-09T10:49:34.531370Z",
     "iopub.status.idle": "2021-11-09T10:49:34.764709Z",
     "shell.execute_reply": "2021-11-09T10:49:34.763710Z"
    }
   },
   "outputs": [],
   "source": [
    "ses = one.alyx.rest('sessions', 'list', task_protocol='ephys', django='tasks__status,40')"
   ]
  },
  {
   "cell_type": "markdown",
   "metadata": {},
   "source": [
    "Query insertions that have alignment resolved\n",
    "\n"
   ]
  },
  {
   "cell_type": "code",
   "execution_count": null,
   "metadata": {
    "execution": {
     "iopub.execute_input": "2021-11-09T10:49:34.768710Z",
     "iopub.status.busy": "2021-11-09T10:49:34.767711Z",
     "iopub.status.idle": "2021-11-09T10:49:35.067735Z",
     "shell.execute_reply": "2021-11-09T10:49:35.067735Z"
    }
   },
   "outputs": [],
   "source": [
    "ins = one.alyx.rest('insertions', 'list', django='json__extended_qc__alignment_resolved,True')"
   ]
  },
  {
   "cell_type": "markdown",
   "metadata": {},
   "source": [
    "Get names of users who have aligned specified insertion\n",
    "\n"
   ]
  },
  {
   "cell_type": "code",
   "execution_count": null,
   "metadata": {
    "execution": {
     "iopub.execute_input": "2021-11-09T10:49:35.071735Z",
     "iopub.status.busy": "2021-11-09T10:49:35.071735Z",
     "iopub.status.idle": "2021-11-09T10:49:35.279425Z",
     "shell.execute_reply": "2021-11-09T10:49:35.280012Z"
    }
   },
   "outputs": [],
   "source": [
    "names = one.alyx.rest('trajectories', 'list', provenance='Ephys aligned histology track',\n",
    "                      probe_insertion='b749446c-18e3-4987-820a-50649ab0f826')[0]['json'].keys()"
   ]
  },
  {
   "cell_type": "markdown",
   "metadata": {},
   "source": [
    "List all sessions which any video QC set\n",
    "\n"
   ]
  },
  {
   "cell_type": "code",
   "execution_count": null,
   "metadata": {
    "execution": {
     "iopub.execute_input": "2021-11-09T10:49:35.284022Z",
     "iopub.status.busy": "2021-11-09T10:49:35.284022Z",
     "iopub.status.idle": "2021-11-09T10:49:35.505852Z",
     "shell.execute_reply": "2021-11-09T10:49:35.505852Z"
    }
   },
   "outputs": [],
   "source": [
    "keys = ('videoLeft', 'videoRight', 'videoBody')\n",
    "ses = one.alyx.rest('sessions', 'list', django=f'extended_qc__has_any_keys,{keys}')"
   ]
  },
  {
   "cell_type": "markdown",
   "metadata": {},
   "source": [
    "List all weighings for a given date\n",
    "\n"
   ]
  },
  {
   "cell_type": "code",
   "execution_count": null,
   "metadata": {
    "execution": {
     "iopub.execute_input": "2021-11-09T10:49:35.511151Z",
     "iopub.status.busy": "2021-11-09T10:49:35.510118Z",
     "iopub.status.idle": "2021-11-09T10:49:35.702841Z",
     "shell.execute_reply": "2021-11-09T10:49:35.702841Z"
    }
   },
   "outputs": [],
   "source": [
    "date = '2021-02-05'\n",
    "weighings = one.alyx.rest('weighings', 'list', django=f'date_time__date,{date}')"
   ]
  }
 ],
 "metadata": {
  "docs_executed": "executed",
  "kernelspec": {
   "display_name": "Python 3",
   "language": "python",
   "name": "python3"
  },
  "language_info": {
   "codemirror_mode": {
    "name": "ipython",
    "version": 3
   },
   "file_extension": ".py",
   "mimetype": "text/x-python",
   "name": "python",
   "nbconvert_exporter": "python",
   "pygments_lexer": "ipython3",
   "version": "3.9.7"
  }
 },
 "nbformat": 4,
 "nbformat_minor": 0
}
