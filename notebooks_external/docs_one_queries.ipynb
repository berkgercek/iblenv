{
 "cells": [
  {
   "cell_type": "markdown",
   "metadata": {},
   "source": [
    "# List of useful one queries\n"
   ]
  },
  {
   "cell_type": "code",
   "execution_count": null,
   "metadata": {
    "execution": {
     "iopub.execute_input": "2021-10-21T15:42:54.943381Z",
     "iopub.status.busy": "2021-10-21T15:42:54.943381Z",
     "iopub.status.idle": "2021-10-21T15:42:56.021492Z",
     "shell.execute_reply": "2021-10-21T15:42:56.021492Z"
    }
   },
   "outputs": [],
   "source": [
    "from one.api import ONE\n",
    "one = ONE(base_url='https://openalyx.internationalbrainlab.org', silent=True)"
   ]
  },
  {
   "cell_type": "markdown",
   "metadata": {},
   "source": [
    "Query session for several subjects\n",
    "\n"
   ]
  },
  {
   "cell_type": "code",
   "execution_count": null,
   "metadata": {
    "execution": {
     "iopub.execute_input": "2021-10-21T15:42:56.021492Z",
     "iopub.status.busy": "2021-10-21T15:42:56.021492Z",
     "iopub.status.idle": "2021-10-21T15:42:56.224860Z",
     "shell.execute_reply": "2021-10-21T15:42:56.224860Z"
    }
   },
   "outputs": [],
   "source": [
    "subjects = ['DY_003', 'DY_006']\n",
    "ses = one.alyx.rest('sessions', 'list', django=f\"subject__nickname__in,{subjects}\")"
   ]
  },
  {
   "cell_type": "markdown",
   "metadata": {},
   "source": [
    "Query sessions that have histology available\n",
    "\n"
   ]
  },
  {
   "cell_type": "code",
   "execution_count": null,
   "metadata": {
    "execution": {
     "iopub.execute_input": "2021-10-21T15:42:56.224860Z",
     "iopub.status.busy": "2021-10-21T15:42:56.224860Z",
     "iopub.status.idle": "2021-10-21T15:42:56.571623Z",
     "shell.execute_reply": "2021-10-21T15:42:56.571623Z"
    }
   },
   "outputs": [],
   "source": [
    "ses = one.alyx.rest('sessions', 'list', histology=True)\n",
    "# the generic way\n",
    "ses = one.alyx.rest('sessions', 'list',\n",
    "                    django=\"subject__actions_sessions__procedures__name,Histology\")"
   ]
  },
  {
   "cell_type": "markdown",
   "metadata": {},
   "source": [
    "Query sessions that do not have matlab in the project name\n",
    "\n"
   ]
  },
  {
   "cell_type": "code",
   "execution_count": null,
   "metadata": {
    "execution": {
     "iopub.execute_input": "2021-10-21T15:42:56.571623Z",
     "iopub.status.busy": "2021-10-21T15:42:56.571623Z",
     "iopub.status.idle": "2021-10-21T15:42:56.915629Z",
     "shell.execute_reply": "2021-10-21T15:42:56.915629Z"
    }
   },
   "outputs": [],
   "source": [
    "ses = one.alyx.rest('sessions', 'list', django='~project__name__icontains,matlab')"
   ]
  },
  {
   "cell_type": "markdown",
   "metadata": {},
   "source": [
    "Query sessions that do not contain a given dataset type\n",
    "\n"
   ]
  },
  {
   "cell_type": "code",
   "execution_count": null,
   "metadata": {
    "execution": {
     "iopub.execute_input": "2021-10-21T15:42:56.915629Z",
     "iopub.status.busy": "2021-10-21T15:42:56.915629Z",
     "iopub.status.idle": "2021-10-21T15:42:57.102840Z",
     "shell.execute_reply": "2021-10-21T15:42:57.102840Z"
    }
   },
   "outputs": [],
   "source": [
    "ses = one.alyx.rest('sessions', 'list',\n",
    "                    django='~data_dataset_session_related__dataset_type__name__icontains,wheel')"
   ]
  },
  {
   "cell_type": "markdown",
   "metadata": {},
   "source": [
    "Query all sessions not labelled as CRITICAL\n",
    "\n"
   ]
  },
  {
   "cell_type": "code",
   "execution_count": null,
   "metadata": {
    "execution": {
     "iopub.execute_input": "2021-10-21T15:42:57.102840Z",
     "iopub.status.busy": "2021-10-21T15:42:57.102840Z",
     "iopub.status.idle": "2021-10-21T15:42:57.305965Z",
     "shell.execute_reply": "2021-10-21T15:42:57.305965Z"
    }
   },
   "outputs": [],
   "source": [
    "ses = one.alyx.rest('sessions', 'list', django='qc__lt,50')"
   ]
  },
  {
   "cell_type": "markdown",
   "metadata": {},
   "source": [
    "Query probe insertions for a given task protocol\n",
    "\n"
   ]
  },
  {
   "cell_type": "code",
   "execution_count": null,
   "metadata": {
    "execution": {
     "iopub.execute_input": "2021-10-21T15:42:57.305965Z",
     "iopub.status.busy": "2021-10-21T15:42:57.305965Z",
     "iopub.status.idle": "2021-10-21T15:42:57.584562Z",
     "shell.execute_reply": "2021-10-21T15:42:57.584562Z"
    }
   },
   "outputs": [],
   "source": [
    "ins = one.alyx.rest('insertions', 'list', django='session__task_protocol__icontains,choiceworld')"
   ]
  },
  {
   "cell_type": "markdown",
   "metadata": {},
   "source": [
    "Query trajectories with channels in given brain region\n",
    "\n"
   ]
  },
  {
   "cell_type": "code",
   "execution_count": null,
   "metadata": {
    "execution": {
     "iopub.execute_input": "2021-10-21T15:42:57.584562Z",
     "iopub.status.busy": "2021-10-21T15:42:57.584562Z",
     "iopub.status.idle": "2021-10-21T15:42:57.755131Z",
     "shell.execute_reply": "2021-10-21T15:42:57.755131Z"
    }
   },
   "outputs": [],
   "source": [
    "trajs = one.alyx.rest('trajectories', 'list', django='channels__brain_region__name__icontains,'\n",
    "                                                     'Entorhinal area medial part dorsal zone '\n",
    "                                                     'layer 2')"
   ]
  },
  {
   "cell_type": "markdown",
   "metadata": {},
   "source": [
    "Query spikesorting tasks that have errored in angelaki lab\n",
    "\n"
   ]
  },
  {
   "cell_type": "code",
   "execution_count": null,
   "metadata": {
    "execution": {
     "iopub.execute_input": "2021-10-21T15:42:57.755131Z",
     "iopub.status.busy": "2021-10-21T15:42:57.755131Z",
     "iopub.status.idle": "2021-10-21T15:42:57.942720Z",
     "shell.execute_reply": "2021-10-21T15:42:57.942720Z"
    }
   },
   "outputs": [],
   "source": [
    "errored = one.alyx.rest('tasks', 'list', status='Errored', lab='angelakilab',\n",
    "                        name='SpikeSorting')"
   ]
  },
  {
   "cell_type": "markdown",
   "metadata": {},
   "source": [
    "Query ephys sessions that have errored tasks\n",
    "\n"
   ]
  },
  {
   "cell_type": "code",
   "execution_count": null,
   "metadata": {
    "execution": {
     "iopub.execute_input": "2021-10-21T15:42:57.958257Z",
     "iopub.status.busy": "2021-10-21T15:42:57.958257Z",
     "iopub.status.idle": "2021-10-21T15:42:58.130424Z",
     "shell.execute_reply": "2021-10-21T15:42:58.130424Z"
    }
   },
   "outputs": [],
   "source": [
    "ses = one.alyx.rest('sessions', 'list', task_protocol='ephys', django='tasks__status,40')"
   ]
  },
  {
   "cell_type": "markdown",
   "metadata": {},
   "source": [
    "Query insertions that have alignment resolved\n",
    "\n"
   ]
  },
  {
   "cell_type": "code",
   "execution_count": null,
   "metadata": {
    "execution": {
     "iopub.execute_input": "2021-10-21T15:42:58.130424Z",
     "iopub.status.busy": "2021-10-21T15:42:58.130424Z",
     "iopub.status.idle": "2021-10-21T15:42:58.411607Z",
     "shell.execute_reply": "2021-10-21T15:42:58.411607Z"
    }
   },
   "outputs": [],
   "source": [
    "ins = one.alyx.rest('insertions', 'list', django='json__extended_qc__alignment_resolved,True')"
   ]
  },
  {
   "cell_type": "markdown",
   "metadata": {},
   "source": [
    "Get names of users who have aligned specified insertion\n",
    "\n"
   ]
  },
  {
   "cell_type": "code",
   "execution_count": null,
   "metadata": {
    "execution": {
     "iopub.execute_input": "2021-10-21T15:42:58.411607Z",
     "iopub.status.busy": "2021-10-21T15:42:58.411607Z",
     "iopub.status.idle": "2021-10-21T15:42:58.614707Z",
     "shell.execute_reply": "2021-10-21T15:42:58.614707Z"
    }
   },
   "outputs": [],
   "source": [
    "names = one.alyx.rest('trajectories', 'list', provenance='Ephys aligned histology track',\n",
    "                      probe_insertion='b749446c-18e3-4987-820a-50649ab0f826')[0]['json'].keys()"
   ]
  },
  {
   "cell_type": "markdown",
   "metadata": {},
   "source": [
    "List all sessions which any video QC set\n",
    "\n"
   ]
  },
  {
   "cell_type": "code",
   "execution_count": null,
   "metadata": {
    "execution": {
     "iopub.execute_input": "2021-10-21T15:42:58.630141Z",
     "iopub.status.busy": "2021-10-21T15:42:58.630141Z",
     "iopub.status.idle": "2021-10-21T15:42:58.833541Z",
     "shell.execute_reply": "2021-10-21T15:42:58.833541Z"
    }
   },
   "outputs": [],
   "source": [
    "keys = ('videoLeft', 'videoRight', 'videoBody')\n",
    "ses = one.alyx.rest('sessions', 'list', django=f'extended_qc__has_any_keys,{keys}')"
   ]
  },
  {
   "cell_type": "markdown",
   "metadata": {},
   "source": [
    "List all weighings for a given date\n",
    "\n"
   ]
  },
  {
   "cell_type": "code",
   "execution_count": null,
   "metadata": {
    "execution": {
     "iopub.execute_input": "2021-10-21T15:42:58.833541Z",
     "iopub.status.busy": "2021-10-21T15:42:58.833541Z",
     "iopub.status.idle": "2021-10-21T15:42:59.005174Z",
     "shell.execute_reply": "2021-10-21T15:42:59.005174Z"
    }
   },
   "outputs": [],
   "source": [
    "date = '2021-02-05'\n",
    "weighings = one.alyx.rest('weighings', 'list', django=f'date_time__date,{date}')"
   ]
  }
 ],
 "metadata": {
  "docs_executed": "executed",
  "kernelspec": {
   "display_name": "Python 3",
   "language": "python",
   "name": "python3"
  },
  "language_info": {
   "codemirror_mode": {
    "name": "ipython",
    "version": 3
   },
   "file_extension": ".py",
   "mimetype": "text/x-python",
   "name": "python",
   "nbconvert_exporter": "python",
   "pygments_lexer": "ipython3",
   "version": "3.9.7"
  }
 },
 "nbformat": 4,
 "nbformat_minor": 0
}
