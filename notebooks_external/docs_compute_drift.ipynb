{
 "cells": [
  {
   "cell_type": "markdown",
   "metadata": {},
   "source": [
    "\n",
    "# Download data and plot drift over the session\n",
    "\n",
    "Downloads LFP power spectrum for a given session and probe and plots a heatmap of power spectrum\n",
    "on the channels along probe against frequency\n"
   ]
  },
  {
   "cell_type": "code",
   "execution_count": null,
   "metadata": {
    "execution": {
     "iopub.execute_input": "2021-09-02T14:45:47.234203Z",
     "iopub.status.busy": "2021-09-02T14:45:47.233202Z",
     "iopub.status.idle": "2021-09-02T14:46:07.698704Z",
     "shell.execute_reply": "2021-09-02T14:46:07.697670Z"
    }
   },
   "outputs": [],
   "source": [
    "# import modules\n",
    "from one.api import ONE\n",
    "from brainbox.metrics import electrode_drift\n",
    "\n",
    "# instantiate one\n",
    "one = ONE(base_url='https://openalyx.internationalbrainlab.org', silent=True)\n",
    "\n",
    "# Specify subject, date and probe we are interested in\n",
    "subject = 'CSHL049'\n",
    "date = '2020-01-08'\n",
    "sess_no = 1\n",
    "probe_label = 'probe00'\n",
    "eid = one.search(subject=subject, date=date, number=sess_no)[0]\n",
    "\n",
    "# Download and load the spikes data\n",
    "spikes = one.load_object(eid, 'spikes', collection=f'alf/{probe_label}')\n",
    "\n",
    "# Use brainbox function to compute drift over session\n",
    "drift = electrode_drift.estimate_drift(spikes['times'], spikes['amps'], spikes['depths'],\n",
    "                                       display=True)"
   ]
  }
 ],
 "metadata": {
  "docs_executed": "executed",
  "kernelspec": {
   "display_name": "Python 3",
   "language": "python",
   "name": "python3"
  },
  "language_info": {
   "codemirror_mode": {
    "name": "ipython",
    "version": 3
   },
   "file_extension": ".py",
   "mimetype": "text/x-python",
   "name": "python",
   "nbconvert_exporter": "python",
   "pygments_lexer": "ipython3",
   "version": "3.9.5"
  }
 },
 "nbformat": 4,
 "nbformat_minor": 0
}
