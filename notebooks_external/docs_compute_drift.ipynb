{
 "cells": [
  {
   "cell_type": "markdown",
   "metadata": {},
   "source": [
    "\n",
    "# Download data and plot drift over the session\n",
    "\n",
    "Downloads LFP power spectrum for a given session and probe and plots a heatmap of power spectrum\n",
    "on the channels along probe against frequency\n"
   ]
  },
  {
   "cell_type": "code",
   "execution_count": null,
   "metadata": {},
   "outputs": [],
   "source": [
    "# import modules\n",
    "import alf.io\n",
    "from oneibl.one import ONE\n",
    "from brainbox.metrics import electrode_drift\n",
    "import matplotlib.pyplot as plt\n",
    "\n",
    "# instantiate one\n",
    "one = ONE()\n",
    "\n",
    "# Specify subject, date and probe we are interested in\n",
    "subject = 'CSHL049'\n",
    "date = '2020-01-08'\n",
    "sess_no = 1\n",
    "probe_label = 'probe00'\n",
    "eid = one.search(subject=subject, date=date, number=sess_no)[0]\n",
    "\n",
    "# define datasets to download\n",
    "dtypes = ['spikes.times',\n",
    "          'spikes.depths',\n",
    "          'spikes.amps']\n",
    "\n",
    "# Download the data and get paths to downloaded data\n",
    "_ = one.load(eid, dataset_types=dtypes, download_only=True)\n",
    "alf_path = one.path_from_eid(eid).joinpath('alf', probe_label)\n",
    "\n",
    "# Load in spikes object and use brainbox function to compute drift over session\n",
    "spikes = alf.io.load_object(alf_path, 'spikes')\n",
    "drift = electrode_drift.estimate_drift(spikes['times'], spikes['amps'], spikes['depths'],\n",
    "                                       display=True)\n",
    "plt.show()"
   ]
  }
 ],
 "metadata": {
  "kernelspec": {
   "display_name": "Python 3",
   "language": "python",
   "name": "python3"
  },
  "language_info": {
   "codemirror_mode": {
    "name": "ipython",
    "version": 3
   },
   "file_extension": ".py",
   "mimetype": "text/x-python",
   "name": "python",
   "nbconvert_exporter": "python",
   "pygments_lexer": "ipython3",
   "version": "3.7.7"
  }
 },
 "nbformat": 4,
 "nbformat_minor": 0
}
