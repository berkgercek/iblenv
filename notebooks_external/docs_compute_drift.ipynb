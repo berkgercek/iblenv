{
 "cells": [
  {
   "cell_type": "markdown",
   "metadata": {},
   "source": [
    "# Download data and plot drift over the session\n",
    "\n",
    "Downloads LFP power spectrum for a given session and probe and plots a heatmap of power spectrum\n",
    "on the channels along probe against frequency\n"
   ]
  },
  {
   "cell_type": "code",
   "execution_count": null,
   "metadata": {
    "execution": {
     "iopub.execute_input": "2021-10-21T16:29:59.489439Z",
     "iopub.status.busy": "2021-10-21T16:29:59.489439Z",
     "iopub.status.idle": "2021-10-21T16:30:10.837500Z",
     "shell.execute_reply": "2021-10-21T16:30:10.837500Z"
    },
    "pycharm": {
     "name": "#%%\n"
    }
   },
   "outputs": [],
   "source": [
    "# import modules\n",
    "\n",
    "from one.api import ONE\n",
    "from brainbox.metrics import electrode_drift\n",
    "\n",
    "# instantiate one\n",
    "one = ONE(base_url='https://openalyx.internationalbrainlab.org', silent=True)\n",
    "\n",
    "# Specify subject, date and probe we are interested in\n",
    "subject = 'CSHL049'\n",
    "date = '2020-01-08'\n",
    "sess_no = 1\n",
    "probe_label = 'probe00'\n",
    "eid = one.search(subject=subject, date=date, number=sess_no)[0]\n",
    "\n",
    "# Download and load the spikes data\n",
    "spikes = one.load_object(eid, 'spikes', collection=f'alf/{probe_label}')\n",
    "\n",
    "# Use brainbox function to compute drift over session\n",
    "drift = electrode_drift.estimate_drift(spikes['times'], spikes['amps'], spikes['depths'],\n",
    "                                       display=True)"
   ]
  }
 ],
 "metadata": {
  "docs_executed": "executed",
  "kernelspec": {
   "display_name": "Python [conda env:iblenv] *",
   "language": "python",
   "name": "conda-env-iblenv-py"
  },
  "language_info": {
   "codemirror_mode": {
    "name": "ipython",
    "version": 3
   },
   "file_extension": ".py",
   "mimetype": "text/x-python",
   "name": "python",
   "nbconvert_exporter": "python",
   "pygments_lexer": "ipython3",
   "version": "3.9.7"
  }
 },
 "nbformat": 4,
 "nbformat_minor": 1
}
