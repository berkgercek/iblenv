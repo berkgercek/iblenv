{
 "cells": [
  {
   "cell_type": "markdown",
   "id": "9e1307f0",
   "metadata": {},
   "source": [
    "# Searching with ONE\n",
    "ONE contains a method that allows you to search for sessions of interest. The possible search terms can be listed using,"
   ]
  },
  {
   "cell_type": "code",
   "execution_count": null,
   "id": "f1059dad",
   "metadata": {},
   "outputs": [],
   "source": [
    "from one.api import ONE\n",
    "one = ONE(base_url='https://openalyx.internationalbrainlab.org')\n",
    "\n",
    "print(one.search_terms)"
   ]
  },
  {
   "cell_type": "markdown",
   "id": "c687995a",
   "metadata": {},
   "source": [
    "We can search for sessions within a specified date range"
   ]
  },
  {
   "cell_type": "code",
   "execution_count": null,
   "id": "615b849e",
   "metadata": {},
   "outputs": [],
   "source": [
    "from pprint import pprint\n",
    "eids = one.search(date_range=['2020-01-01', '2021-01-01'])\n",
    "pprint(eids)"
   ]
  },
  {
   "cell_type": "markdown",
   "id": "e0b16d83",
   "metadata": {},
   "source": [
    "To get more information about the sessions we can add a details=True flag"
   ]
  },
  {
   "cell_type": "code",
   "execution_count": null,
   "id": "1cac7162",
   "metadata": {},
   "outputs": [],
   "source": [
    "eids = one.search(date_range=['2020-01-01', '2021-01-01'], details=True)\n",
    "pprint(eids)"
   ]
  },
  {
   "cell_type": "markdown",
   "id": "764970a8",
   "metadata": {},
   "source": []
  },
  {
   "cell_type": "markdown",
   "id": "7e312800",
   "metadata": {},
   "source": [
    "Multiple search terms can also be combined, for example we can search for any sessions from the subject SWC_043 that contain the datasets spikes.times and spikes.clusters"
   ]
  },
  {
   "cell_type": "code",
   "execution_count": null,
   "id": "98802da6",
   "metadata": {},
   "outputs": [],
   "source": [
    "eids = one.search(subject='SWC_043', dataset=['spikes.times', 'spikes.clusters'])\n",
    "pprint(eids)"
   ]
  },
  {
   "cell_type": "markdown",
   "id": "f89cd239",
   "metadata": {},
   "source": [
    "To find out more information about the `one.search` method we can use the help function"
   ]
  },
  {
   "cell_type": "code",
   "execution_count": null,
   "id": "98e5d825",
   "metadata": {},
   "outputs": [],
   "source": [
    "help(one.search)"
   ]
  },
  {
   "cell_type": "markdown",
   "id": "eff96fb8",
   "metadata": {},
   "source": [
    "Once you have identified a session that you are interested in we can then use the list method in ONE to find out more details about the data available for this session"
   ]
  }
 ],
 "metadata": {
  "kernelspec": {
   "display_name": "Python [conda env:iblenv_new] *",
   "language": "python",
   "name": "conda-env-iblenv_new-py"
  },
  "language_info": {
   "codemirror_mode": {
    "name": "ipython",
    "version": 3
   },
   "file_extension": ".py",
   "mimetype": "text/x-python",
   "name": "python",
   "nbconvert_exporter": "python",
   "pygments_lexer": "ipython3",
   "version": "3.9.5"
  }
 },
 "nbformat": 4,
 "nbformat_minor": 5
}
