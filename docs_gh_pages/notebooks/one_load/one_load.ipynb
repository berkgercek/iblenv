{
 "cells": [
  {
   "cell_type": "markdown",
   "id": "1b071298",
   "metadata": {},
   "source": [
    "# Loading with ONE\n",
    "Once a session and datasets of interest have been identified, the ONE load methods can be used to load in the relevant data"
   ]
  },
  {
   "cell_type": "markdown",
   "id": "451d3a58",
   "metadata": {},
   "source": [
    "To load all datasets for a given object we can use the load_object method"
   ]
  },
  {
   "cell_type": "code",
   "execution_count": null,
   "id": "1897d0ae",
   "metadata": {},
   "outputs": [],
   "source": [
    "from one.api import ONE\n",
    "one = ONE(base_url='https://openalyx.internationalbrainlab.org')\n",
    "\n",
    "eid = 'CSH_ZAD_029/2020-09-19/001'\n",
    "trials = one.load_object(eid, 'trials') "
   ]
  },
  {
   "cell_type": "markdown",
   "id": "ceff26fc",
   "metadata": {},
   "source": [
    "The attributes of returned object mirror the datasets"
   ]
  },
  {
   "cell_type": "code",
   "execution_count": null,
   "id": "4f4a2b53",
   "metadata": {},
   "outputs": [],
   "source": [
    "print(trials.keys())"
   ]
  },
  {
   "cell_type": "markdown",
   "id": "82d8ec5d",
   "metadata": {},
   "source": [
    "If we only want to load in certain attributes of an object we can use the following"
   ]
  },
  {
   "cell_type": "code",
   "execution_count": null,
   "id": "1df12e76",
   "metadata": {},
   "outputs": [],
   "source": [
    "trials = one.load_object(eid, 'trials', attribute='intervals|rewardVolume|probabilityLeft')\n",
    "print(trials.keys())"
   ]
  },
  {
   "cell_type": "markdown",
   "id": "ea30cf4c",
   "metadata": {},
   "source": [
    "If an object belongs to more than one collection, for example the clusters object, the collection must be specified"
   ]
  },
  {
   "cell_type": "code",
   "execution_count": null,
   "id": "8bcbd040",
   "metadata": {},
   "outputs": [],
   "source": [
    "clusters = one.load_object(eid, 'clusters', collection='alf/probe01')"
   ]
  },
  {
   "cell_type": "markdown",
   "id": "d7e22e51",
   "metadata": {},
   "source": [
    "By default, the load_object method downloads and loads the data into memory, if you only want to download the data you can specify a download only flag. In this case the returned object will be a list of paths to the datasets on your local system"
   ]
  },
  {
   "cell_type": "code",
   "execution_count": null,
   "id": "dd67dacb",
   "metadata": {},
   "outputs": [],
   "source": [
    "files = one.load_object(eid, 'clusters', collection='alf/probe01', download_only=True)"
   ]
  },
  {
   "cell_type": "markdown",
   "id": "14c75c36",
   "metadata": {},
   "source": [
    "To load a single dataset we can use the load_dataset method"
   ]
  },
  {
   "cell_type": "code",
   "execution_count": null,
   "id": "91ec972f",
   "metadata": {},
   "outputs": [],
   "source": [
    "reward_volume = one.load_dataset(eid, '_ibl_trials.rewardVolume.npy')"
   ]
  },
  {
   "cell_type": "markdown",
   "id": "8d0f05b5",
   "metadata": {},
   "source": [
    "Once again if the same dataset exists in more than one collection, the collection must be specified"
   ]
  },
  {
   "cell_type": "code",
   "execution_count": null,
   "id": "44a75400",
   "metadata": {},
   "outputs": [],
   "source": [
    "waveforms = one.load_dataset(eid, 'clusters.waveforms.npy', collection='alf/probe01')"
   ]
  },
  {
   "cell_type": "markdown",
   "id": "6fc4de0f",
   "metadata": {},
   "source": [
    "We can use the load_datasets method to load multiple datasets at once. This method returns two lists, the first which contains the data for each dataset and the second which contains meta information about the data."
   ]
  },
  {
   "cell_type": "code",
   "execution_count": null,
   "id": "6343ff03",
   "metadata": {},
   "outputs": [],
   "source": [
    "data, info = one.load_datasets(eid, datasets=['_ibl_trials.rewardVolume.npy',\n",
    "                                              '_ibl_trials.probabilityLeft.npy'])"
   ]
  },
  {
   "cell_type": "markdown",
   "id": "99b501ca",
   "metadata": {},
   "source": [
    "It is also possible to load datasets from different collections. For example if we want to simultaneously load a trials dataset and a clusters dataset we would type,"
   ]
  },
  {
   "cell_type": "code",
   "execution_count": null,
   "id": "4afeb6be",
   "metadata": {},
   "outputs": [],
   "source": [
    "data, info = one.load_datasets(eid, datasets=['_ibl_trials.rewardVolume.npy',\n",
    "                                              'clusters.waveforms.npy'],\n",
    "                               collections=['alf', 'alf/probe01'])\n"
   ]
  },
  {
   "cell_type": "markdown",
   "id": "107e851f",
   "metadata": {},
   "source": [
    "More information about these methods can be found using the help command"
   ]
  },
  {
   "cell_type": "code",
   "execution_count": null,
   "id": "63dba137",
   "metadata": {},
   "outputs": [],
   "source": [
    "help(one.load_dataset)"
   ]
  },
  {
   "cell_type": "code",
   "execution_count": null,
   "id": "dbf2460b",
   "metadata": {},
   "outputs": [],
   "source": []
  }
 ],
 "metadata": {
  "kernelspec": {
   "display_name": "Python [conda env:iblenv_new] *",
   "language": "python",
   "name": "conda-env-iblenv_new-py"
  },
  "language_info": {
   "codemirror_mode": {
    "name": "ipython",
    "version": 3
   },
   "file_extension": ".py",
   "mimetype": "text/x-python",
   "name": "python",
   "nbconvert_exporter": "python",
   "pygments_lexer": "ipython3",
   "version": "3.7.7"
  }
 },
 "nbformat": 4,
 "nbformat_minor": 5
}
