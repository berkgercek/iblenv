{
 "cells": [
  {
   "cell_type": "markdown",
   "source": [
    "# Allen Atlas Python wrapper.\n",
    "\n",
    "A tool to manipulate and use Allen mouse atlas volumes for neural analysis in Python.\n",
    "\n",
    "## Manifest\n",
    "Besides the obvious reasons to avoid analysis code duplication, reduce boiler-plate volume indexing code and the risk of mistakes, some reasons to write a wrapper include the following:\n",
    "-   Keep physical units regardless of the backend volume resolution\n",
    "-   Origin at Bregma: for experimentalists. Also having a physical origin allows to make the\n",
    "distinction between left and right hemisphere just by looking at the sign of ml.\n",
    "-   Allows to swap/remap label segmentation volumes keeping the same\n",
    "-   Handle the hierarchical nature of the brain region trees\n",
    "\n",
    "### Coordinate transforms:\n",
    "-   **ml** (x): medio-lateral axis. Left negative, right positive\n",
    "-   **ap** (y): antero-posterior axis. Front positive, back negative\n",
    "-   **dv** (z): dorso-ventral axis. Up positive, down negative\n",
    "\n",
    "### Volume dimensions: (ap, ml, dv)\n"
   ],
   "metadata": {
    "collapsed": false
   }
  },
  {
   "cell_type": "code",
   "execution_count": null,
   "outputs": [],
   "source": [
    "from ibllib.atlas import AllenAtlas\n",
    "ba = AllenAtlas()  # by default this loads the res_um=25 volume\n",
    "\n",
    "print(ba.image.shape)  # this is the image volume (ap, ml, dv)\n",
    "print(ba.label.shape)  # this is the segmentation label volume (ap, ml, dv)"
   ],
   "metadata": {
    "collapsed": false,
    "pycharm": {
     "name": "#%%\n"
    }
   }
  },
  {
   "cell_type": "code",
   "execution_count": null,
   "outputs": [],
   "source": [
    "ba.plot_cslice(0)\n"
   ],
   "metadata": {
    "collapsed": false,
    "pycharm": {
     "name": "#%%\n"
    }
   }
  },
  {
   "cell_type": "code",
   "execution_count": null,
   "outputs": [],
   "source": [
    "ba.plot_hslice(-0.002, volume='annotation')"
   ],
   "metadata": {
    "collapsed": false,
    "pycharm": {
     "name": "#%%\n"
    }
   }
  },
  {
   "cell_type": "code",
   "execution_count": null,
   "outputs": [],
   "source": [
    "ba.plot_hslice(-0.002, volume='annotation', mapping='Beryl')"
   ],
   "metadata": {
    "collapsed": false,
    "pycharm": {
     "name": "#%%\n"
    }
   }
  },
  {
   "cell_type": "markdown",
   "source": [
    "The brain regions object"
   ],
   "metadata": {
    "collapsed": false
   }
  },
  {
   "cell_type": "code",
   "execution_count": null,
   "outputs": [],
   "source": [
    "ba.regions"
   ],
   "metadata": {
    "collapsed": false,
    "pycharm": {
     "name": "#%%\n"
    }
   }
  }
 ],
 "metadata": {
  "kernelspec": {
   "name": "conda-env-iblenv-py",
   "language": "python",
   "display_name": "Python [conda env:iblenv] *"
  },
  "language_info": {
   "codemirror_mode": {
    "name": "ipython",
    "version": 2
   },
   "file_extension": ".py",
   "mimetype": "text/x-python",
   "name": "python",
   "nbconvert_exporter": "python",
   "pygments_lexer": "ipython2",
   "version": "2.7.6"
  }
 },
 "nbformat": 4,
 "nbformat_minor": 0
}