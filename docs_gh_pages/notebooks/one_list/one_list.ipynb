{
 "cells": [
  {
   "cell_type": "markdown",
   "id": "feca510c",
   "metadata": {},
   "source": [
    "# Listing with ONE\n",
    "ONE contains a number of list methods that can be used to explore the datasets available."
   ]
  },
  {
   "cell_type": "markdown",
   "id": "dec54da3",
   "metadata": {},
   "source": [
    "To list all available datasets we can use"
   ]
  },
  {
   "cell_type": "code",
   "execution_count": null,
   "id": "e9870e8a",
   "metadata": {},
   "outputs": [],
   "source": [
    "from one.api import ONE\n",
    "one = ONE(base_url='https://openalyx.internationalbrainlab.org')\n",
    "\n",
    "# All datasets in the database\n",
    "dsets = one.list_datasets()"
   ]
  },
  {
   "cell_type": "markdown",
   "id": "3b95c4d6",
   "metadata": {},
   "source": [
    "If you are connected to a database (e.g not using ONE with a local cache directory) you can find out information about a specific dataset by typing,"
   ]
  },
  {
   "cell_type": "code",
   "execution_count": null,
   "id": "01c9e3c3",
   "metadata": {},
   "outputs": [],
   "source": [
    "one.describe_dataset(dsets[3])"
   ]
  },
  {
   "cell_type": "markdown",
   "id": "078f1993",
   "metadata": {},
   "source": [
    "To find the datasets associated with a specific experiment we can pass in an eid argument"
   ]
  },
  {
   "cell_type": "code",
   "execution_count": null,
   "id": "82b0128a",
   "metadata": {},
   "outputs": [],
   "source": [
    "eid = 'KS023/2019-12-10/001'\n",
    "\n",
    "# All datasets for specific session\n",
    "dsets = one.list_datasets(eid)\n",
    "print(dsets)"
   ]
  },
  {
   "cell_type": "markdown",
   "id": "5b89763d",
   "metadata": {},
   "source": [
    "We can also list the available collections by using,"
   ]
  },
  {
   "cell_type": "code",
   "execution_count": null,
   "id": "017614ca",
   "metadata": {},
   "outputs": [],
   "source": [
    "# All collections in database\n",
    "collections = one.list_collections()\n",
    "\n",
    "# All collections for specific session\n",
    "collections = one.list_collections(eid)\n",
    "print(collections)"
   ]
  },
  {
   "cell_type": "markdown",
   "id": "c6c26de6",
   "metadata": {},
   "source": [
    "To find datasets in a given collection, we can use"
   ]
  },
  {
   "cell_type": "code",
   "execution_count": null,
   "id": "43ac12b9",
   "metadata": {},
   "outputs": [],
   "source": [
    "# All datasets for specific session in alf/probe01 collection\n",
    "datasets = one.list_datasets(eid, collection='alf/probe01')"
   ]
  },
  {
   "cell_type": "markdown",
   "id": "1556f44d",
   "metadata": {},
   "source": [
    "Revisions can be listed in a similar way,"
   ]
  },
  {
   "cell_type": "code",
   "execution_count": null,
   "id": "a32682e2",
   "metadata": {},
   "outputs": [],
   "source": [
    "# All revisions in database\n",
    "revisions = one.list_revisions()\n",
    "\n",
    "# All revisions for specific session\n",
    "revisions = one.list_revisions(eid)"
   ]
  },
  {
   "cell_type": "markdown",
   "id": "329a2051",
   "metadata": {},
   "source": [
    "The final useful list method allows you to search for subjects in the database,"
   ]
  },
  {
   "cell_type": "code",
   "execution_count": null,
   "id": "d5d54c23",
   "metadata": {},
   "outputs": [],
   "source": [
    "# All subjects in the database\n",
    "subjects = one.list_subjects()"
   ]
  }
 ],
 "metadata": {
  "kernelspec": {
   "display_name": "Python [conda env:iblenv_new] *",
   "language": "python",
   "name": "conda-env-iblenv_new-py"
  },
  "language_info": {
   "codemirror_mode": {
    "name": "ipython",
    "version": 3
   },
   "file_extension": ".py",
   "mimetype": "text/x-python",
   "name": "python",
   "nbconvert_exporter": "python",
   "pygments_lexer": "ipython3",
   "version": "3.9.5"
  }
 },
 "nbformat": 4,
 "nbformat_minor": 5
}
