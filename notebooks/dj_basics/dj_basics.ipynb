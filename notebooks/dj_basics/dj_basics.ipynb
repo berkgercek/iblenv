{
 "cells": [
  {
   "cell_type": "markdown",
   "metadata": {},
   "source": [
    "# Exploring the IBL Data Pipeline\n",
    "\n",
    "Here we will introduce some useful DataJoint tools and concepts to help you explore the IBL data pipeline. Before proceeding make sure that you have installed the [IBL python environment](../../02_installation.md) and set up your [Datajoint credentials](../../dj_docs/dj_credentials.md)\n",
    "\n"
   ]
  },
  {
   "cell_type": "markdown",
   "metadata": {},
   "source": [
    "## A few definitions\n",
    "First of all, let's define a few basic definitions:\n",
    "\n",
    "- Table - collection of rows and columns that contain data\n",
    "- Schema - a collection of related tables \n",
    "- Module - script where schema and associated tables are defined\n",
    "- Pipeline - collection of schemas\n",
    "\n",
    "Example nomenclature would be to say that we want to get data from the `Subject table` stored in the `ibl_subjects schema` which are together defined in the `subject module` in the `IBL pipeline`. \n",
    "\n",
    "In practice, `modules` are often referred to as schemas and so we would refer to the `subject module` as the `subject schema`"
   ]
  },
  {
   "cell_type": "markdown",
   "metadata": {},
   "source": [
    "Let's now proceed by importing Datajoint and some schemas from the IBL pipeline"
   ]
  },
  {
   "cell_type": "code",
   "execution_count": null,
   "metadata": {
    "execution": {
     "iopub.execute_input": "2021-09-02T14:43:16.620495Z",
     "iopub.status.busy": "2021-09-02T14:43:16.620495Z",
     "iopub.status.idle": "2021-09-02T14:43:54.832437Z",
     "shell.execute_reply": "2021-09-02T14:43:54.831426Z"
    }
   },
   "outputs": [],
   "source": [
    "import datajoint as dj\n",
    "dj.config['display.limit'] = 5\n",
    "from ibl_pipeline import reference, subject, action, acquisition, data, behavior\n",
    "from ibl_pipeline.analyses import behavior as behavior_analyses"
   ]
  },
  {
   "cell_type": "markdown",
   "metadata": {},
   "source": [
    "## 1. Browsing schemas\n",
    "The IBL pipeline contains a number of different schemas. To browse which schemas are available, we can use the `dj.list_schemas()` command,"
   ]
  },
  {
   "cell_type": "code",
   "execution_count": null,
   "metadata": {
    "execution": {
     "iopub.execute_input": "2021-09-02T14:43:54.836437Z",
     "iopub.status.busy": "2021-09-02T14:43:54.836437Z",
     "iopub.status.idle": "2021-09-02T14:43:54.973358Z",
     "shell.execute_reply": "2021-09-02T14:43:54.972358Z"
    }
   },
   "outputs": [],
   "source": [
    "dj.list_schemas()"
   ]
  },
  {
   "cell_type": "markdown",
   "metadata": {},
   "source": [
    "\n",
    "### Major schemas include:   \n",
    "Meta data from **Alyx**: `ibl_reference`, `ibl_subject`, `ibl_action`, `ibl_acquisition`, and `ibl_data`  \n",
    "Imported data from **FlatIron**: `ibl_behavior` and `ibl_ephys`  \n",
    "Computed analzyed results: `ibl_analyses_behavior`\n"
   ]
  },
  {
   "cell_type": "markdown",
   "metadata": {},
   "source": [
    "## 2. Browsing tables in a schemas\n",
    "We can see what tables are defined in a schema using the `dj.Diagram` command. For example, to see the tables defined in the `subject` schema we can type,"
   ]
  },
  {
   "cell_type": "markdown",
   "metadata": {},
   "source": [
    "```\n",
    "dj.Diagram(subject)\n",
    "```"
   ]
  },
  {
   "cell_type": "markdown",
   "metadata": {},
   "source": [
    "<div class=\"alert alert-info\">\n",
    "\n",
    "Note\n",
    "\n",
    "For more information about the what the different colours and line types mean, please refer to this more comprehensive [tutorial](https://github.com/int-brain-lab/IBL-pipeline/blob/master/notebooks/notebooks_tutorial/201909_code_camp/1-Explore%20IBL%20data%20pipeline%20with%20DataJoint.ipynb)\n",
    "</div>"
   ]
  },
  {
   "cell_type": "markdown",
   "metadata": {},
   "source": [
    "We can also use the following code snippet to list the tables that are defined in a schema"
   ]
  },
  {
   "cell_type": "code",
   "execution_count": null,
   "metadata": {
    "execution": {
     "iopub.execute_input": "2021-09-02T14:43:54.985379Z",
     "iopub.status.busy": "2021-09-02T14:43:54.985379Z",
     "iopub.status.idle": "2021-09-02T14:43:55.000625Z",
     "shell.execute_reply": "2021-09-02T14:43:55.000625Z"
    }
   },
   "outputs": [],
   "source": [
    "from datajoint.user_tables import UserTable\n",
    "import inspect\n",
    "\n",
    "\n",
    "def list_tables(schema):\n",
    "    for k in dir(schema):\n",
    "        t = getattr(schema, k)\n",
    "        if inspect.isclass(t) and issubclass(t, UserTable):\n",
    "            print(k)"
   ]
  },
  {
   "cell_type": "code",
   "execution_count": null,
   "metadata": {
    "execution": {
     "iopub.execute_input": "2021-09-02T14:43:55.004636Z",
     "iopub.status.busy": "2021-09-02T14:43:55.003589Z",
     "iopub.status.idle": "2021-09-02T14:43:55.017591Z",
     "shell.execute_reply": "2021-09-02T14:43:55.016588Z"
    }
   },
   "outputs": [],
   "source": [
    "list_tables(subject)"
   ]
  },
  {
   "cell_type": "markdown",
   "metadata": {},
   "source": [
    "## 3. Getting the detailed definition of a table\n",
    "To find out details about a table, we can use the `describe` method"
   ]
  },
  {
   "cell_type": "code",
   "execution_count": null,
   "metadata": {
    "execution": {
     "iopub.execute_input": "2021-09-02T14:43:55.020548Z",
     "iopub.status.busy": "2021-09-02T14:43:55.020548Z",
     "iopub.status.idle": "2021-09-02T14:43:55.746312Z",
     "shell.execute_reply": "2021-09-02T14:43:55.745341Z"
    }
   },
   "outputs": [],
   "source": [
    "subject.Subject.describe()"
   ]
  },
  {
   "cell_type": "markdown",
   "metadata": {},
   "source": [
    "## 4. Browsing data in tables  - queries"
   ]
  },
  {
   "cell_type": "markdown",
   "metadata": {},
   "source": [
    "Query all subjects"
   ]
  },
  {
   "cell_type": "code",
   "execution_count": null,
   "metadata": {
    "execution": {
     "iopub.execute_input": "2021-09-02T14:43:55.751312Z",
     "iopub.status.busy": "2021-09-02T14:43:55.750313Z",
     "iopub.status.idle": "2021-09-02T14:43:56.110311Z",
     "shell.execute_reply": "2021-09-02T14:43:56.109312Z"
    }
   },
   "outputs": [],
   "source": [
    "subject.Subject()"
   ]
  },
  {
   "cell_type": "markdown",
   "metadata": {},
   "source": [
    "### Restriction  `&`: filtering data"
   ]
  },
  {
   "cell_type": "markdown",
   "metadata": {},
   "source": [
    "#### Restriction: Query one subject"
   ]
  },
  {
   "cell_type": "code",
   "execution_count": null,
   "metadata": {
    "execution": {
     "iopub.execute_input": "2021-09-02T14:43:56.115312Z",
     "iopub.status.busy": "2021-09-02T14:43:56.114389Z",
     "iopub.status.idle": "2021-09-02T14:43:56.477307Z",
     "shell.execute_reply": "2021-09-02T14:43:56.476308Z"
    }
   },
   "outputs": [],
   "source": [
    "# restrict by string\n",
    "subject.Subject & 'subject_nickname=\"ibl_witten_10\"'"
   ]
  },
  {
   "cell_type": "code",
   "execution_count": null,
   "metadata": {
    "execution": {
     "iopub.execute_input": "2021-09-02T14:43:56.481308Z",
     "iopub.status.busy": "2021-09-02T14:43:56.481308Z",
     "iopub.status.idle": "2021-09-02T14:43:56.841314Z",
     "shell.execute_reply": "2021-09-02T14:43:56.841314Z"
    }
   },
   "outputs": [],
   "source": [
    "# restrict by dictionary\n",
    "from uuid import UUID\n",
    "subject.Subject & {'subject_uuid': UUID('00c60db3-74c3-4ee2-9df9-2c84acf84e92')}"
   ]
  },
  {
   "cell_type": "markdown",
   "metadata": {},
   "source": [
    "#### Restriction: Query all male subjects"
   ]
  },
  {
   "cell_type": "code",
   "execution_count": null,
   "metadata": {
    "execution": {
     "iopub.execute_input": "2021-09-02T14:43:56.847353Z",
     "iopub.status.busy": "2021-09-02T14:43:56.846344Z",
     "iopub.status.idle": "2021-09-02T14:43:57.217018Z",
     "shell.execute_reply": "2021-09-02T14:43:57.218020Z"
    }
   },
   "outputs": [],
   "source": [
    "subject.Subject & {'sex': 'm'}"
   ]
  },
  {
   "cell_type": "markdown",
   "metadata": {},
   "source": [
    "#### Restriction: Query subjects born after a date"
   ]
  },
  {
   "cell_type": "code",
   "execution_count": null,
   "metadata": {
    "execution": {
     "iopub.execute_input": "2021-09-02T14:43:57.222034Z",
     "iopub.status.busy": "2021-09-02T14:43:57.222034Z",
     "iopub.status.idle": "2021-09-02T14:43:57.591631Z",
     "shell.execute_reply": "2021-09-02T14:43:57.592631Z"
    }
   },
   "outputs": [],
   "source": [
    "subject.Subject & 'subject_birth_date > \"2019-01-01\"'"
   ]
  },
  {
   "cell_type": "markdown",
   "metadata": {},
   "source": [
    "#### Restriction: Query subjects within a range of dates"
   ]
  },
  {
   "cell_type": "code",
   "execution_count": null,
   "metadata": {
    "execution": {
     "iopub.execute_input": "2021-09-02T14:43:57.597631Z",
     "iopub.status.busy": "2021-09-02T14:43:57.594632Z",
     "iopub.status.idle": "2021-09-02T14:43:57.981278Z",
     "shell.execute_reply": "2021-09-02T14:43:57.982262Z"
    }
   },
   "outputs": [],
   "source": [
    "subject.Subject & 'subject_birth_date between \"2019-01-01\" and \"2019-04-01\"'"
   ]
  },
  {
   "cell_type": "markdown",
   "metadata": {},
   "source": [
    "#### Restriction: Query subjects on multiple attributes"
   ]
  },
  {
   "cell_type": "code",
   "execution_count": null,
   "metadata": {
    "execution": {
     "iopub.execute_input": "2021-09-02T14:43:57.986257Z",
     "iopub.status.busy": "2021-09-02T14:43:57.986257Z",
     "iopub.status.idle": "2021-09-02T14:43:58.358251Z",
     "shell.execute_reply": "2021-09-02T14:43:58.357252Z"
    }
   },
   "outputs": [],
   "source": [
    "subject.Subject & 'subject_birth_date > \"2019-01-01\"' & 'sex=\"M\"'"
   ]
  },
  {
   "cell_type": "markdown",
   "metadata": {},
   "source": [
    "#### Restriction: Query subjects restricted by other tables"
   ]
  },
  {
   "cell_type": "code",
   "execution_count": null,
   "metadata": {
    "execution": {
     "iopub.execute_input": "2021-09-02T14:43:58.362251Z",
     "iopub.status.busy": "2021-09-02T14:43:58.360252Z",
     "iopub.status.idle": "2021-09-02T14:43:58.732979Z",
     "shell.execute_reply": "2021-09-02T14:43:58.731978Z"
    }
   },
   "outputs": [],
   "source": [
    "# subjects with Behavioural sessions\n",
    "subject.Subject & acquisition.Session"
   ]
  },
  {
   "cell_type": "code",
   "execution_count": null,
   "metadata": {
    "execution": {
     "iopub.execute_input": "2021-09-02T14:43:58.736977Z",
     "iopub.status.busy": "2021-09-02T14:43:58.735942Z",
     "iopub.status.idle": "2021-09-02T14:43:59.120818Z",
     "shell.execute_reply": "2021-09-02T14:43:59.119818Z"
    }
   },
   "outputs": [],
   "source": [
    "# subjects without Behavioural sessions\n",
    "subject.Subject - acquisition.Session"
   ]
  },
  {
   "cell_type": "markdown",
   "metadata": {},
   "source": [
    "### Join `*`:  gather information from different tables"
   ]
  },
  {
   "cell_type": "code",
   "execution_count": null,
   "metadata": {
    "execution": {
     "iopub.execute_input": "2021-09-02T14:43:59.124818Z",
     "iopub.status.busy": "2021-09-02T14:43:59.124818Z",
     "iopub.status.idle": "2021-09-02T14:43:59.543858Z",
     "shell.execute_reply": "2021-09-02T14:43:59.542859Z"
    }
   },
   "outputs": [],
   "source": [
    "subject.Subject * acquisition.Session"
   ]
  },
  {
   "cell_type": "markdown",
   "metadata": {},
   "source": [
    "### Projection `.proj()`: focus on attributes of interest"
   ]
  },
  {
   "cell_type": "code",
   "execution_count": null,
   "metadata": {
    "execution": {
     "iopub.execute_input": "2021-09-02T14:43:59.547859Z",
     "iopub.status.busy": "2021-09-02T14:43:59.547859Z",
     "iopub.status.idle": "2021-09-02T14:43:59.921273Z",
     "shell.execute_reply": "2021-09-02T14:43:59.920273Z"
    }
   },
   "outputs": [],
   "source": [
    "subject.Subject.proj()"
   ]
  },
  {
   "cell_type": "code",
   "execution_count": null,
   "metadata": {
    "execution": {
     "iopub.execute_input": "2021-09-02T14:43:59.925309Z",
     "iopub.status.busy": "2021-09-02T14:43:59.924273Z",
     "iopub.status.idle": "2021-09-02T14:44:00.306643Z",
     "shell.execute_reply": "2021-09-02T14:44:00.303652Z"
    }
   },
   "outputs": [],
   "source": [
    "subject.Subject.proj('subject_birth_date', 'sex')"
   ]
  },
  {
   "cell_type": "markdown",
   "metadata": {},
   "source": [
    "#### rename attribute with ***proj()***"
   ]
  },
  {
   "cell_type": "code",
   "execution_count": null,
   "metadata": {
    "execution": {
     "iopub.execute_input": "2021-09-02T14:44:00.316622Z",
     "iopub.status.busy": "2021-09-02T14:44:00.315632Z",
     "iopub.status.idle": "2021-09-02T14:44:00.676094Z",
     "shell.execute_reply": "2021-09-02T14:44:00.675057Z"
    }
   },
   "outputs": [],
   "source": [
    "subject.Subject.proj('sex', dob='subject_birth_date')"
   ]
  },
  {
   "cell_type": "markdown",
   "metadata": {},
   "source": [
    "#### perform simple computations with ***proj***"
   ]
  },
  {
   "cell_type": "markdown",
   "metadata": {},
   "source": [
    "**Example 1: Get the date of a session**"
   ]
  },
  {
   "cell_type": "code",
   "execution_count": null,
   "metadata": {
    "execution": {
     "iopub.execute_input": "2021-09-02T14:44:00.679056Z",
     "iopub.status.busy": "2021-09-02T14:44:00.679056Z",
     "iopub.status.idle": "2021-09-02T14:44:00.692109Z",
     "shell.execute_reply": "2021-09-02T14:44:00.692109Z"
    }
   },
   "outputs": [],
   "source": [
    "sessions_with_date = acquisition.Session.proj(session_date='date(session_start_time)')"
   ]
  },
  {
   "cell_type": "code",
   "execution_count": null,
   "metadata": {
    "execution": {
     "iopub.execute_input": "2021-09-02T14:44:00.696054Z",
     "iopub.status.busy": "2021-09-02T14:44:00.696054Z",
     "iopub.status.idle": "2021-09-02T14:44:01.147968Z",
     "shell.execute_reply": "2021-09-02T14:44:01.148982Z"
    }
   },
   "outputs": [],
   "source": [
    "sessions_with_date"
   ]
  },
  {
   "cell_type": "markdown",
   "metadata": {},
   "source": [
    "**Example 2: Get the age of the animal at each session**"
   ]
  },
  {
   "cell_type": "code",
   "execution_count": null,
   "metadata": {
    "execution": {
     "iopub.execute_input": "2021-09-02T14:44:01.153927Z",
     "iopub.status.busy": "2021-09-02T14:44:01.153927Z",
     "iopub.status.idle": "2021-09-02T14:44:01.164140Z",
     "shell.execute_reply": "2021-09-02T14:44:01.163144Z"
    }
   },
   "outputs": [],
   "source": [
    "# First get the date of birth and the session date into the same query\n",
    "q = subject.Subject * acquisition.Session"
   ]
  },
  {
   "cell_type": "code",
   "execution_count": null,
   "metadata": {
    "execution": {
     "iopub.execute_input": "2021-09-02T14:44:01.169141Z",
     "iopub.status.busy": "2021-09-02T14:44:01.169141Z",
     "iopub.status.idle": "2021-09-02T14:44:01.604267Z",
     "shell.execute_reply": "2021-09-02T14:44:01.603238Z"
    }
   },
   "outputs": [],
   "source": [
    "# Then compute the age\n",
    "q_with_age = q.proj(age='datediff(session_start_time, subject_birth_date)')\n",
    "q_with_age"
   ]
  },
  {
   "cell_type": "markdown",
   "metadata": {},
   "source": [
    "### Aggregation `.aggr()`: simple computation of one table against another table"
   ]
  },
  {
   "cell_type": "markdown",
   "metadata": {},
   "source": [
    "**Example: How many sessions has each subject done so far?**"
   ]
  },
  {
   "cell_type": "code",
   "execution_count": null,
   "metadata": {
    "execution": {
     "iopub.execute_input": "2021-09-02T14:44:01.609273Z",
     "iopub.status.busy": "2021-09-02T14:44:01.608230Z",
     "iopub.status.idle": "2021-09-02T14:44:02.015479Z",
     "shell.execute_reply": "2021-09-02T14:44:02.013428Z"
    }
   },
   "outputs": [],
   "source": [
    "subject.Subject.aggr(acquisition.Session, 'subject_nickname', n='count(*)')"
   ]
  },
  {
   "cell_type": "markdown",
   "metadata": {},
   "source": [
    "## 5. Fetching data"
   ]
  },
  {
   "cell_type": "markdown",
   "metadata": {},
   "source": [
    "### Fetch all fields: `fetch()`"
   ]
  },
  {
   "cell_type": "code",
   "execution_count": null,
   "metadata": {
    "execution": {
     "iopub.execute_input": "2021-09-02T14:44:02.027473Z",
     "iopub.status.busy": "2021-09-02T14:44:02.025475Z",
     "iopub.status.idle": "2021-09-02T14:44:02.241887Z",
     "shell.execute_reply": "2021-09-02T14:44:02.241887Z"
    }
   },
   "outputs": [],
   "source": [
    "# fetch all data from a table\n",
    "subjs = subject.Subject.fetch()\n",
    "subjs[:5]"
   ]
  },
  {
   "cell_type": "code",
   "execution_count": null,
   "metadata": {
    "execution": {
     "iopub.execute_input": "2021-09-02T14:44:02.246925Z",
     "iopub.status.busy": "2021-09-02T14:44:02.245886Z",
     "iopub.status.idle": "2021-09-02T14:44:02.258780Z",
     "shell.execute_reply": "2021-09-02T14:44:02.257984Z"
    }
   },
   "outputs": [],
   "source": [
    "subjs['subject_uuid'][:5]"
   ]
  },
  {
   "cell_type": "code",
   "execution_count": null,
   "metadata": {
    "execution": {
     "iopub.execute_input": "2021-09-02T14:44:02.262788Z",
     "iopub.status.busy": "2021-09-02T14:44:02.262788Z",
     "iopub.status.idle": "2021-09-02T14:44:02.273790Z",
     "shell.execute_reply": "2021-09-02T14:44:02.272789Z"
    }
   },
   "outputs": [],
   "source": [
    "subjs['subject_birth_date'][:5]"
   ]
  },
  {
   "cell_type": "code",
   "execution_count": null,
   "metadata": {
    "execution": {
     "iopub.execute_input": "2021-09-02T14:44:02.276861Z",
     "iopub.status.busy": "2021-09-02T14:44:02.276861Z",
     "iopub.status.idle": "2021-09-02T14:44:02.431448Z",
     "shell.execute_reply": "2021-09-02T14:44:02.430939Z"
    }
   },
   "outputs": [],
   "source": [
    "# fetch as a list of dictionaries\n",
    "subjs_dict = subject.Subject.fetch(as_dict=True)\n",
    "subjs_dict[:5]"
   ]
  },
  {
   "cell_type": "code",
   "execution_count": null,
   "metadata": {
    "execution": {
     "iopub.execute_input": "2021-09-02T14:44:02.434797Z",
     "iopub.status.busy": "2021-09-02T14:44:02.433458Z",
     "iopub.status.idle": "2021-09-02T14:44:02.621621Z",
     "shell.execute_reply": "2021-09-02T14:44:02.622621Z"
    }
   },
   "outputs": [],
   "source": [
    "# fetch as pandas dataframe\n",
    "subjs_df = subject.Subject.fetch(format='frame')\n",
    "subjs_df[:5]"
   ]
  },
  {
   "cell_type": "code",
   "execution_count": null,
   "metadata": {
    "execution": {
     "iopub.execute_input": "2021-09-02T14:44:02.626620Z",
     "iopub.status.busy": "2021-09-02T14:44:02.625618Z",
     "iopub.status.idle": "2021-09-02T14:44:02.731621Z",
     "shell.execute_reply": "2021-09-02T14:44:02.731621Z"
    }
   },
   "outputs": [],
   "source": [
    "# fetch the primary key\n",
    "pk = subject.Subject.fetch('KEY')\n",
    "pk[:5]"
   ]
  },
  {
   "cell_type": "code",
   "execution_count": null,
   "metadata": {
    "execution": {
     "iopub.execute_input": "2021-09-02T14:44:02.735621Z",
     "iopub.status.busy": "2021-09-02T14:44:02.735621Z",
     "iopub.status.idle": "2021-09-02T14:44:02.872932Z",
     "shell.execute_reply": "2021-09-02T14:44:02.873932Z"
    }
   },
   "outputs": [],
   "source": [
    "# fetch specific attributes\n",
    "dob, sex = subject.Subject.fetch('subject_birth_date', 'sex')\n",
    "dob[:5]"
   ]
  },
  {
   "cell_type": "code",
   "execution_count": null,
   "metadata": {
    "execution": {
     "iopub.execute_input": "2021-09-02T14:44:02.878928Z",
     "iopub.status.busy": "2021-09-02T14:44:02.877927Z",
     "iopub.status.idle": "2021-09-02T14:44:02.998367Z",
     "shell.execute_reply": "2021-09-02T14:44:02.998367Z"
    }
   },
   "outputs": [],
   "source": [
    "info = subject.Subject.fetch('subject_birth_date', 'sex', as_dict=True)\n",
    "info[:5]"
   ]
  },
  {
   "cell_type": "markdown",
   "metadata": {},
   "source": [
    "### Fetch data from only one entry: `fetch1`"
   ]
  },
  {
   "cell_type": "code",
   "execution_count": null,
   "metadata": {
    "execution": {
     "iopub.execute_input": "2021-09-02T14:44:03.003393Z",
     "iopub.status.busy": "2021-09-02T14:44:03.002442Z",
     "iopub.status.idle": "2021-09-02T14:44:03.110131Z",
     "shell.execute_reply": "2021-09-02T14:44:03.109130Z"
    }
   },
   "outputs": [],
   "source": [
    "ibl_witten_10 = (subject.Subject & {'subject_nickname': 'ibl_witten_10'}).fetch1('KEY')"
   ]
  },
  {
   "cell_type": "code",
   "execution_count": null,
   "metadata": {
    "execution": {
     "iopub.execute_input": "2021-09-02T14:44:03.117129Z",
     "iopub.status.busy": "2021-09-02T14:44:03.117129Z",
     "iopub.status.idle": "2021-09-02T14:44:03.122770Z",
     "shell.execute_reply": "2021-09-02T14:44:03.123774Z"
    }
   },
   "outputs": [],
   "source": [
    "ibl_witten_10"
   ]
  },
  {
   "cell_type": "code",
   "execution_count": null,
   "metadata": {
    "execution": {
     "iopub.execute_input": "2021-09-02T14:44:03.127489Z",
     "iopub.status.busy": "2021-09-02T14:44:03.125490Z",
     "iopub.status.idle": "2021-09-02T14:44:03.232402Z",
     "shell.execute_reply": "2021-09-02T14:44:03.233401Z"
    }
   },
   "outputs": [],
   "source": [
    "IBL_10 = (subject.Subject & {'subject_nickname': 'IBL_10'}).fetch1()"
   ]
  },
  {
   "cell_type": "code",
   "execution_count": null,
   "metadata": {
    "execution": {
     "iopub.execute_input": "2021-09-02T14:44:03.237401Z",
     "iopub.status.busy": "2021-09-02T14:44:03.237401Z",
     "iopub.status.idle": "2021-09-02T14:44:03.249149Z",
     "shell.execute_reply": "2021-09-02T14:44:03.248160Z"
    }
   },
   "outputs": [],
   "source": [
    "IBL_10"
   ]
  }
 ],
 "metadata": {
  "docs_executed": "executed",
  "kernelspec": {
   "display_name": "Python 3",
   "language": "python",
   "name": "python3"
  },
  "language_info": {
   "codemirror_mode": {
    "name": "ipython",
    "version": 3
   },
   "file_extension": ".py",
   "mimetype": "text/x-python",
   "name": "python",
   "nbconvert_exporter": "python",
   "pygments_lexer": "ipython3",
   "version": "3.9.5"
  }
 },
 "nbformat": 4,
 "nbformat_minor": 2
}
