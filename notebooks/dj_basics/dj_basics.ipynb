{
 "cells": [
  {
   "cell_type": "markdown",
   "metadata": {},
   "source": [
    "# Exploring the IBL Data Pipeline\n",
    "\n",
    "Here we will introduce some useful DataJoint tools and concepts to help you explore the IBL data pipeline. Before proceeding make sure that you have installed the [IBL python environment](../../02_installation.md) and set up your [Datajoint credentials](../../dj_docs/dj_credentials.md)\n",
    "\n"
   ]
  },
  {
   "cell_type": "markdown",
   "metadata": {},
   "source": [
    "## A few definitions\n",
    "First of all, let's define a few basic definitions:\n",
    "\n",
    "- Table - collection of rows and columns that contain data\n",
    "- Schema - a collection of related tables \n",
    "- Module - script where schema and associated tables are defined\n",
    "- Pipeline - collection of schemas\n",
    "\n",
    "Example nomenclature would be to say that we want to get data from the `Subject table` stored in the `ibl_subjects schema` which are together defined in the `subject module` in the `IBL pipeline`. \n",
    "\n",
    "In practice, `modules` are often referred to as schemas and so we would refer to the `subject module` as the `subject schema`"
   ]
  },
  {
   "cell_type": "markdown",
   "metadata": {},
   "source": [
    "Let's now proceed by importing Datajoint and some schemas from the IBL pipeline"
   ]
  },
  {
   "cell_type": "code",
   "execution_count": null,
   "metadata": {
    "execution": {
     "iopub.execute_input": "2021-11-09T10:33:08.930209Z",
     "iopub.status.busy": "2021-11-09T10:33:08.928346Z",
     "iopub.status.idle": "2021-11-09T10:33:42.306433Z",
     "shell.execute_reply": "2021-11-09T10:33:42.309438Z"
    }
   },
   "outputs": [],
   "source": [
    "import datajoint as dj\n",
    "dj.config['display.limit'] = 5\n",
    "from ibl_pipeline import reference, subject, action, acquisition, data, behavior\n",
    "from ibl_pipeline.analyses import behavior as behavior_analyses"
   ]
  },
  {
   "cell_type": "markdown",
   "metadata": {},
   "source": [
    "## 1. Browsing schemas\n",
    "The IBL pipeline contains a number of different schemas. To browse which schemas are available, we can use the `dj.list_schemas()` command,"
   ]
  },
  {
   "cell_type": "code",
   "execution_count": null,
   "metadata": {
    "execution": {
     "iopub.execute_input": "2021-11-09T10:33:42.330384Z",
     "iopub.status.busy": "2021-11-09T10:33:42.327547Z",
     "iopub.status.idle": "2021-11-09T10:33:42.503909Z",
     "shell.execute_reply": "2021-11-09T10:33:42.505328Z"
    }
   },
   "outputs": [],
   "source": [
    "dj.list_schemas()"
   ]
  },
  {
   "cell_type": "markdown",
   "metadata": {},
   "source": [
    "\n",
    "### Major schemas include:   \n",
    "Meta data from **Alyx**: `ibl_reference`, `ibl_subject`, `ibl_action`, `ibl_acquisition`, and `ibl_data`  \n",
    "Imported data from **FlatIron**: `ibl_behavior` and `ibl_ephys`  \n",
    "Computed analzyed results: `ibl_analyses_behavior`\n"
   ]
  },
  {
   "cell_type": "markdown",
   "metadata": {},
   "source": [
    "## 2. Browsing tables in a schemas\n",
    "We can see what tables are defined in a schema using the `dj.Diagram` command. For example, to see the tables defined in the `subject` schema we can type,"
   ]
  },
  {
   "cell_type": "markdown",
   "metadata": {},
   "source": [
    "```\n",
    "dj.Diagram(subject)\n",
    "```"
   ]
  },
  {
   "cell_type": "markdown",
   "metadata": {},
   "source": [
    "<div class=\"alert alert-info\">\n",
    "\n",
    "Note\n",
    "\n",
    "For more information about the what the different colours and line types mean, please refer to this more comprehensive [tutorial](https://github.com/int-brain-lab/IBL-pipeline/blob/master/notebooks/notebooks_tutorial/201909_code_camp/1-Explore%20IBL%20data%20pipeline%20with%20DataJoint.ipynb)\n",
    "</div>"
   ]
  },
  {
   "cell_type": "markdown",
   "metadata": {},
   "source": [
    "We can also use the following code snippet to list the tables that are defined in a schema"
   ]
  },
  {
   "cell_type": "code",
   "execution_count": null,
   "metadata": {
    "execution": {
     "iopub.execute_input": "2021-11-09T10:33:42.530341Z",
     "iopub.status.busy": "2021-11-09T10:33:42.528283Z",
     "iopub.status.idle": "2021-11-09T10:33:42.549187Z",
     "shell.execute_reply": "2021-11-09T10:33:42.552190Z"
    }
   },
   "outputs": [],
   "source": [
    "from datajoint.user_tables import UserTable\n",
    "import inspect\n",
    "\n",
    "\n",
    "def list_tables(schema):\n",
    "    for k in dir(schema):\n",
    "        t = getattr(schema, k)\n",
    "        if inspect.isclass(t) and issubclass(t, UserTable):\n",
    "            print(k)"
   ]
  },
  {
   "cell_type": "code",
   "execution_count": null,
   "metadata": {
    "execution": {
     "iopub.execute_input": "2021-11-09T10:33:42.577192Z",
     "iopub.status.busy": "2021-11-09T10:33:42.573192Z",
     "iopub.status.idle": "2021-11-09T10:33:42.611349Z",
     "shell.execute_reply": "2021-11-09T10:33:42.608363Z"
    }
   },
   "outputs": [],
   "source": [
    "list_tables(subject)"
   ]
  },
  {
   "cell_type": "markdown",
   "metadata": {},
   "source": [
    "## 3. Getting the detailed definition of a table\n",
    "To find out details about a table, we can use the `describe` method"
   ]
  },
  {
   "cell_type": "code",
   "execution_count": null,
   "metadata": {
    "execution": {
     "iopub.execute_input": "2021-11-09T10:33:42.629357Z",
     "iopub.status.busy": "2021-11-09T10:33:42.627354Z",
     "iopub.status.idle": "2021-11-09T10:33:43.752974Z",
     "shell.execute_reply": "2021-11-09T10:33:43.747950Z"
    }
   },
   "outputs": [],
   "source": [
    "subject.Subject.describe()"
   ]
  },
  {
   "cell_type": "markdown",
   "metadata": {},
   "source": [
    "## 4. Browsing data in tables  - queries"
   ]
  },
  {
   "cell_type": "markdown",
   "metadata": {},
   "source": [
    "Query all subjects"
   ]
  },
  {
   "cell_type": "code",
   "execution_count": null,
   "metadata": {
    "execution": {
     "iopub.execute_input": "2021-11-09T10:33:43.777944Z",
     "iopub.status.busy": "2021-11-09T10:33:43.775953Z",
     "iopub.status.idle": "2021-11-09T10:33:44.336791Z",
     "shell.execute_reply": "2021-11-09T10:33:44.334790Z"
    }
   },
   "outputs": [],
   "source": [
    "subject.Subject()"
   ]
  },
  {
   "cell_type": "markdown",
   "metadata": {},
   "source": [
    "### Restriction  `&`: filtering data"
   ]
  },
  {
   "cell_type": "markdown",
   "metadata": {},
   "source": [
    "#### Restriction: Query one subject"
   ]
  },
  {
   "cell_type": "code",
   "execution_count": null,
   "metadata": {
    "execution": {
     "iopub.execute_input": "2021-11-09T10:33:44.358745Z",
     "iopub.status.busy": "2021-11-09T10:33:44.349796Z",
     "iopub.status.idle": "2021-11-09T10:33:44.888191Z",
     "shell.execute_reply": "2021-11-09T10:33:44.888191Z"
    }
   },
   "outputs": [],
   "source": [
    "# restrict by string\n",
    "subject.Subject & 'subject_nickname=\"ibl_witten_10\"'"
   ]
  },
  {
   "cell_type": "code",
   "execution_count": null,
   "metadata": {
    "execution": {
     "iopub.execute_input": "2021-11-09T10:33:44.895149Z",
     "iopub.status.busy": "2021-11-09T10:33:44.892147Z",
     "iopub.status.idle": "2021-11-09T10:33:45.442706Z",
     "shell.execute_reply": "2021-11-09T10:33:45.444706Z"
    }
   },
   "outputs": [],
   "source": [
    "# restrict by dictionary\n",
    "from uuid import UUID\n",
    "subject.Subject & {'subject_uuid': UUID('00c60db3-74c3-4ee2-9df9-2c84acf84e92')}"
   ]
  },
  {
   "cell_type": "markdown",
   "metadata": {},
   "source": [
    "#### Restriction: Query all male subjects"
   ]
  },
  {
   "cell_type": "code",
   "execution_count": null,
   "metadata": {
    "execution": {
     "iopub.execute_input": "2021-11-09T10:33:45.467046Z",
     "iopub.status.busy": "2021-11-09T10:33:45.464045Z",
     "iopub.status.idle": "2021-11-09T10:33:46.017338Z",
     "shell.execute_reply": "2021-11-09T10:33:46.021339Z"
    }
   },
   "outputs": [],
   "source": [
    "subject.Subject & {'sex': 'm'}"
   ]
  },
  {
   "cell_type": "markdown",
   "metadata": {},
   "source": [
    "#### Restriction: Query subjects born after a date"
   ]
  },
  {
   "cell_type": "code",
   "execution_count": null,
   "metadata": {
    "execution": {
     "iopub.execute_input": "2021-11-09T10:33:46.033334Z",
     "iopub.status.busy": "2021-11-09T10:33:46.032386Z",
     "iopub.status.idle": "2021-11-09T10:33:46.579090Z",
     "shell.execute_reply": "2021-11-09T10:33:46.582086Z"
    }
   },
   "outputs": [],
   "source": [
    "subject.Subject & 'subject_birth_date > \"2019-01-01\"'"
   ]
  },
  {
   "cell_type": "markdown",
   "metadata": {},
   "source": [
    "#### Restriction: Query subjects within a range of dates"
   ]
  },
  {
   "cell_type": "code",
   "execution_count": null,
   "metadata": {
    "execution": {
     "iopub.execute_input": "2021-11-09T10:33:46.601659Z",
     "iopub.status.busy": "2021-11-09T10:33:46.595040Z",
     "iopub.status.idle": "2021-11-09T10:33:47.160605Z",
     "shell.execute_reply": "2021-11-09T10:33:47.163608Z"
    }
   },
   "outputs": [],
   "source": [
    "subject.Subject & 'subject_birth_date between \"2019-01-01\" and \"2019-04-01\"'"
   ]
  },
  {
   "cell_type": "markdown",
   "metadata": {},
   "source": [
    "#### Restriction: Query subjects on multiple attributes"
   ]
  },
  {
   "cell_type": "code",
   "execution_count": null,
   "metadata": {
    "execution": {
     "iopub.execute_input": "2021-11-09T10:33:47.185610Z",
     "iopub.status.busy": "2021-11-09T10:33:47.182616Z",
     "iopub.status.idle": "2021-11-09T10:33:47.735595Z",
     "shell.execute_reply": "2021-11-09T10:33:47.739535Z"
    }
   },
   "outputs": [],
   "source": [
    "subject.Subject & 'subject_birth_date > \"2019-01-01\"' & 'sex=\"M\"'"
   ]
  },
  {
   "cell_type": "markdown",
   "metadata": {},
   "source": [
    "#### Restriction: Query subjects restricted by other tables"
   ]
  },
  {
   "cell_type": "code",
   "execution_count": null,
   "metadata": {
    "execution": {
     "iopub.execute_input": "2021-11-09T10:33:47.756568Z",
     "iopub.status.busy": "2021-11-09T10:33:47.755568Z",
     "iopub.status.idle": "2021-11-09T10:33:48.311340Z",
     "shell.execute_reply": "2021-11-09T10:33:48.314341Z"
    }
   },
   "outputs": [],
   "source": [
    "# subjects with Behavioural sessions\n",
    "subject.Subject & acquisition.Session"
   ]
  },
  {
   "cell_type": "code",
   "execution_count": null,
   "metadata": {
    "execution": {
     "iopub.execute_input": "2021-11-09T10:33:48.338340Z",
     "iopub.status.busy": "2021-11-09T10:33:48.334373Z",
     "iopub.status.idle": "2021-11-09T10:33:48.888164Z",
     "shell.execute_reply": "2021-11-09T10:33:48.891175Z"
    }
   },
   "outputs": [],
   "source": [
    "# subjects without Behavioural sessions\n",
    "subject.Subject - acquisition.Session"
   ]
  },
  {
   "cell_type": "markdown",
   "metadata": {},
   "source": [
    "### Join `*`:  gather information from different tables"
   ]
  },
  {
   "cell_type": "code",
   "execution_count": null,
   "metadata": {
    "execution": {
     "iopub.execute_input": "2021-11-09T10:33:48.922422Z",
     "iopub.status.busy": "2021-11-09T10:33:48.918156Z",
     "iopub.status.idle": "2021-11-09T10:33:49.556376Z",
     "shell.execute_reply": "2021-11-09T10:33:49.553378Z"
    }
   },
   "outputs": [],
   "source": [
    "subject.Subject * acquisition.Session"
   ]
  },
  {
   "cell_type": "markdown",
   "metadata": {},
   "source": [
    "### Projection `.proj()`: focus on attributes of interest"
   ]
  },
  {
   "cell_type": "code",
   "execution_count": null,
   "metadata": {
    "execution": {
     "iopub.execute_input": "2021-11-09T10:33:49.572999Z",
     "iopub.status.busy": "2021-11-09T10:33:49.569313Z",
     "iopub.status.idle": "2021-11-09T10:33:50.425608Z",
     "shell.execute_reply": "2021-11-09T10:33:50.422608Z"
    }
   },
   "outputs": [],
   "source": [
    "subject.Subject.proj()"
   ]
  },
  {
   "cell_type": "code",
   "execution_count": null,
   "metadata": {
    "execution": {
     "iopub.execute_input": "2021-11-09T10:33:50.448591Z",
     "iopub.status.busy": "2021-11-09T10:33:50.446595Z",
     "iopub.status.idle": "2021-11-09T10:33:50.986571Z",
     "shell.execute_reply": "2021-11-09T10:33:50.985563Z"
    }
   },
   "outputs": [],
   "source": [
    "subject.Subject.proj('subject_birth_date', 'sex')"
   ]
  },
  {
   "cell_type": "markdown",
   "metadata": {},
   "source": [
    "#### rename attribute with ***proj()***"
   ]
  },
  {
   "cell_type": "code",
   "execution_count": null,
   "metadata": {
    "execution": {
     "iopub.execute_input": "2021-11-09T10:33:51.007501Z",
     "iopub.status.busy": "2021-11-09T10:33:50.999566Z",
     "iopub.status.idle": "2021-11-09T10:33:51.551434Z",
     "shell.execute_reply": "2021-11-09T10:33:51.553433Z"
    }
   },
   "outputs": [],
   "source": [
    "subject.Subject.proj('sex', dob='subject_birth_date')"
   ]
  },
  {
   "cell_type": "markdown",
   "metadata": {},
   "source": [
    "#### perform simple computations with ***proj***"
   ]
  },
  {
   "cell_type": "markdown",
   "metadata": {},
   "source": [
    "**Example 1: Get the date of a session**"
   ]
  },
  {
   "cell_type": "code",
   "execution_count": null,
   "metadata": {
    "execution": {
     "iopub.execute_input": "2021-11-09T10:33:51.575438Z",
     "iopub.status.busy": "2021-11-09T10:33:51.572382Z",
     "iopub.status.idle": "2021-11-09T10:33:51.581438Z",
     "shell.execute_reply": "2021-11-09T10:33:51.583434Z"
    }
   },
   "outputs": [],
   "source": [
    "sessions_with_date = acquisition.Session.proj(session_date='date(session_start_time)')"
   ]
  },
  {
   "cell_type": "code",
   "execution_count": null,
   "metadata": {
    "execution": {
     "iopub.execute_input": "2021-11-09T10:33:51.602434Z",
     "iopub.status.busy": "2021-11-09T10:33:51.599443Z",
     "iopub.status.idle": "2021-11-09T10:33:52.207068Z",
     "shell.execute_reply": "2021-11-09T10:33:52.205003Z"
    }
   },
   "outputs": [],
   "source": [
    "sessions_with_date"
   ]
  },
  {
   "cell_type": "markdown",
   "metadata": {},
   "source": [
    "**Example 2: Get the age of the animal at each session**"
   ]
  },
  {
   "cell_type": "code",
   "execution_count": null,
   "metadata": {
    "execution": {
     "iopub.execute_input": "2021-11-09T10:33:52.228014Z",
     "iopub.status.busy": "2021-11-09T10:33:52.226014Z",
     "iopub.status.idle": "2021-11-09T10:33:52.248815Z",
     "shell.execute_reply": "2021-11-09T10:33:52.250815Z"
    }
   },
   "outputs": [],
   "source": [
    "# First get the date of birth and the session date into the same query\n",
    "q = subject.Subject * acquisition.Session"
   ]
  },
  {
   "cell_type": "code",
   "execution_count": null,
   "metadata": {
    "execution": {
     "iopub.execute_input": "2021-11-09T10:33:52.272861Z",
     "iopub.status.busy": "2021-11-09T10:33:52.269806Z",
     "iopub.status.idle": "2021-11-09T10:33:52.867482Z",
     "shell.execute_reply": "2021-11-09T10:33:52.868482Z"
    }
   },
   "outputs": [],
   "source": [
    "# Then compute the age\n",
    "q_with_age = q.proj(age='datediff(session_start_time, subject_birth_date)')\n",
    "q_with_age"
   ]
  },
  {
   "cell_type": "markdown",
   "metadata": {},
   "source": [
    "### Aggregation `.aggr()`: simple computation of one table against another table"
   ]
  },
  {
   "cell_type": "markdown",
   "metadata": {},
   "source": [
    "**Example: How many sessions has each subject done so far?**"
   ]
  },
  {
   "cell_type": "code",
   "execution_count": null,
   "metadata": {
    "execution": {
     "iopub.execute_input": "2021-11-09T10:33:52.879480Z",
     "iopub.status.busy": "2021-11-09T10:33:52.878483Z",
     "iopub.status.idle": "2021-11-09T10:33:53.468579Z",
     "shell.execute_reply": "2021-11-09T10:33:53.470242Z"
    }
   },
   "outputs": [],
   "source": [
    "subject.Subject.aggr(acquisition.Session, 'subject_nickname', n='count(*)')"
   ]
  },
  {
   "cell_type": "markdown",
   "metadata": {},
   "source": [
    "## 5. Fetching data"
   ]
  },
  {
   "cell_type": "markdown",
   "metadata": {},
   "source": [
    "### Fetch all fields: `fetch()`"
   ]
  },
  {
   "cell_type": "code",
   "execution_count": null,
   "metadata": {
    "execution": {
     "iopub.execute_input": "2021-11-09T10:33:53.489572Z",
     "iopub.status.busy": "2021-11-09T10:33:53.486863Z",
     "iopub.status.idle": "2021-11-09T10:33:53.866265Z",
     "shell.execute_reply": "2021-11-09T10:33:53.867266Z"
    }
   },
   "outputs": [],
   "source": [
    "# fetch all data from a table\n",
    "subjs = subject.Subject.fetch()\n",
    "subjs[:5]"
   ]
  },
  {
   "cell_type": "code",
   "execution_count": null,
   "metadata": {
    "execution": {
     "iopub.execute_input": "2021-11-09T10:33:53.878271Z",
     "iopub.status.busy": "2021-11-09T10:33:53.876266Z",
     "iopub.status.idle": "2021-11-09T10:33:53.885269Z",
     "shell.execute_reply": "2021-11-09T10:33:53.887269Z"
    }
   },
   "outputs": [],
   "source": [
    "subjs['subject_uuid'][:5]"
   ]
  },
  {
   "cell_type": "code",
   "execution_count": null,
   "metadata": {
    "execution": {
     "iopub.execute_input": "2021-11-09T10:33:53.902265Z",
     "iopub.status.busy": "2021-11-09T10:33:53.900264Z",
     "iopub.status.idle": "2021-11-09T10:33:53.915264Z",
     "shell.execute_reply": "2021-11-09T10:33:53.913263Z"
    }
   },
   "outputs": [],
   "source": [
    "subjs['subject_birth_date'][:5]"
   ]
  },
  {
   "cell_type": "code",
   "execution_count": null,
   "metadata": {
    "execution": {
     "iopub.execute_input": "2021-11-09T10:33:53.922267Z",
     "iopub.status.busy": "2021-11-09T10:33:53.921263Z",
     "iopub.status.idle": "2021-11-09T10:33:54.343502Z",
     "shell.execute_reply": "2021-11-09T10:33:54.346502Z"
    }
   },
   "outputs": [],
   "source": [
    "# fetch as a list of dictionaries\n",
    "subjs_dict = subject.Subject.fetch(as_dict=True)\n",
    "subjs_dict[:5]"
   ]
  },
  {
   "cell_type": "code",
   "execution_count": null,
   "metadata": {
    "execution": {
     "iopub.execute_input": "2021-11-09T10:33:54.367484Z",
     "iopub.status.busy": "2021-11-09T10:33:54.364489Z",
     "iopub.status.idle": "2021-11-09T10:33:54.814748Z",
     "shell.execute_reply": "2021-11-09T10:33:54.812748Z"
    }
   },
   "outputs": [],
   "source": [
    "# fetch as pandas dataframe\n",
    "subjs_df = subject.Subject.fetch(format='frame')\n",
    "subjs_df[:5]"
   ]
  },
  {
   "cell_type": "code",
   "execution_count": null,
   "metadata": {
    "execution": {
     "iopub.execute_input": "2021-11-09T10:33:54.837748Z",
     "iopub.status.busy": "2021-11-09T10:33:54.833756Z",
     "iopub.status.idle": "2021-11-09T10:33:55.000734Z",
     "shell.execute_reply": "2021-11-09T10:33:54.999735Z"
    }
   },
   "outputs": [],
   "source": [
    "# fetch the primary key\n",
    "pk = subject.Subject.fetch('KEY')\n",
    "pk[:5]"
   ]
  },
  {
   "cell_type": "code",
   "execution_count": null,
   "metadata": {
    "execution": {
     "iopub.execute_input": "2021-11-09T10:33:55.007733Z",
     "iopub.status.busy": "2021-11-09T10:33:55.006731Z",
     "iopub.status.idle": "2021-11-09T10:33:55.263728Z",
     "shell.execute_reply": "2021-11-09T10:33:55.261739Z"
    }
   },
   "outputs": [],
   "source": [
    "# fetch specific attributes\n",
    "dob, sex = subject.Subject.fetch('subject_birth_date', 'sex')\n",
    "dob[:5]"
   ]
  },
  {
   "cell_type": "code",
   "execution_count": null,
   "metadata": {
    "execution": {
     "iopub.execute_input": "2021-11-09T10:33:55.280734Z",
     "iopub.status.busy": "2021-11-09T10:33:55.278734Z",
     "iopub.status.idle": "2021-11-09T10:33:55.536424Z",
     "shell.execute_reply": "2021-11-09T10:33:55.535413Z"
    }
   },
   "outputs": [],
   "source": [
    "info = subject.Subject.fetch('subject_birth_date', 'sex', as_dict=True)\n",
    "info[:5]"
   ]
  },
  {
   "cell_type": "markdown",
   "metadata": {},
   "source": [
    "### Fetch data from only one entry: `fetch1`"
   ]
  },
  {
   "cell_type": "code",
   "execution_count": null,
   "metadata": {
    "execution": {
     "iopub.execute_input": "2021-11-09T10:33:55.556354Z",
     "iopub.status.busy": "2021-11-09T10:33:55.553355Z",
     "iopub.status.idle": "2021-11-09T10:33:55.711042Z",
     "shell.execute_reply": "2021-11-09T10:33:55.705982Z"
    }
   },
   "outputs": [],
   "source": [
    "ibl_witten_10 = (subject.Subject & {'subject_nickname': 'ibl_witten_10'}).fetch1('KEY')"
   ]
  },
  {
   "cell_type": "code",
   "execution_count": null,
   "metadata": {
    "execution": {
     "iopub.execute_input": "2021-11-09T10:33:55.733982Z",
     "iopub.status.busy": "2021-11-09T10:33:55.725989Z",
     "iopub.status.idle": "2021-11-09T10:33:55.749981Z",
     "shell.execute_reply": "2021-11-09T10:33:55.750983Z"
    }
   },
   "outputs": [],
   "source": [
    "ibl_witten_10"
   ]
  },
  {
   "cell_type": "code",
   "execution_count": null,
   "metadata": {
    "execution": {
     "iopub.execute_input": "2021-11-09T10:33:55.771983Z",
     "iopub.status.busy": "2021-11-09T10:33:55.768995Z",
     "iopub.status.idle": "2021-11-09T10:33:55.909222Z",
     "shell.execute_reply": "2021-11-09T10:33:55.907229Z"
    }
   },
   "outputs": [],
   "source": [
    "IBL_10 = (subject.Subject & {'subject_nickname': 'IBL_10'}).fetch1()"
   ]
  },
  {
   "cell_type": "code",
   "execution_count": null,
   "metadata": {
    "execution": {
     "iopub.execute_input": "2021-11-09T10:33:55.915223Z",
     "iopub.status.busy": "2021-11-09T10:33:55.914224Z",
     "iopub.status.idle": "2021-11-09T10:33:55.923223Z",
     "shell.execute_reply": "2021-11-09T10:33:55.924725Z"
    }
   },
   "outputs": [],
   "source": [
    "IBL_10"
   ]
  }
 ],
 "metadata": {
  "docs_executed": "executed",
  "kernelspec": {
   "display_name": "Python 3",
   "language": "python",
   "name": "python3"
  },
  "language_info": {
   "codemirror_mode": {
    "name": "ipython",
    "version": 3
   },
   "file_extension": ".py",
   "mimetype": "text/x-python",
   "name": "python",
   "nbconvert_exporter": "python",
   "pygments_lexer": "ipython3",
   "version": "3.9.7"
  }
 },
 "nbformat": 4,
 "nbformat_minor": 2
}
