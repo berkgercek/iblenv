{
 "cells": [
  {
   "cell_type": "markdown",
   "id": "9e1307f0",
   "metadata": {},
   "source": [
    "# Searching with ONE\n",
    "ONE contains a method that allows you to search for sessions of interest. The possible search terms can be listed using,"
   ]
  },
  {
   "cell_type": "code",
   "execution_count": null,
   "id": "f1059dad",
   "metadata": {
    "execution": {
     "iopub.execute_input": "2021-09-02T14:45:19.805287Z",
     "iopub.status.busy": "2021-09-02T14:45:19.804288Z",
     "iopub.status.idle": "2021-09-02T14:45:22.493458Z",
     "shell.execute_reply": "2021-09-02T14:45:22.492422Z"
    }
   },
   "outputs": [],
   "source": [
    "from one.api import ONE\n",
    "one = ONE(base_url='https://openalyx.internationalbrainlab.org', silent=True)\n",
    "\n",
    "print(one.search_terms())"
   ]
  },
  {
   "cell_type": "markdown",
   "id": "c687995a",
   "metadata": {},
   "source": [
    "We can search for sessions within a specified date range"
   ]
  },
  {
   "cell_type": "code",
   "execution_count": null,
   "id": "615b849e",
   "metadata": {
    "execution": {
     "iopub.execute_input": "2021-09-02T14:45:22.501461Z",
     "iopub.status.busy": "2021-09-02T14:45:22.500425Z",
     "iopub.status.idle": "2021-09-02T14:45:22.509680Z",
     "shell.execute_reply": "2021-09-02T14:45:22.508680Z"
    }
   },
   "outputs": [],
   "source": [
    "from pprint import pprint\n",
    "eids = one.search(date_range=['2020-01-01', '2021-01-01'])\n",
    "pprint(eids)"
   ]
  },
  {
   "cell_type": "markdown",
   "id": "e0b16d83",
   "metadata": {},
   "source": [
    "To get more information about the sessions we can add a details=True flag"
   ]
  },
  {
   "cell_type": "code",
   "execution_count": null,
   "id": "1cac7162",
   "metadata": {
    "execution": {
     "iopub.execute_input": "2021-09-02T14:45:22.518680Z",
     "iopub.status.busy": "2021-09-02T14:45:22.517683Z",
     "iopub.status.idle": "2021-09-02T14:45:22.540886Z",
     "shell.execute_reply": "2021-09-02T14:45:22.540886Z"
    }
   },
   "outputs": [],
   "source": [
    "eids = one.search(date_range=['2020-01-01', '2021-01-01'], details=True)\n",
    "pprint(eids)"
   ]
  },
  {
   "cell_type": "markdown",
   "id": "764970a8",
   "metadata": {},
   "source": []
  },
  {
   "cell_type": "markdown",
   "id": "7e312800",
   "metadata": {},
   "source": [
    "Multiple search terms can also be combined, for example we can search for any sessions from the subject SWC_043 that contain the datasets spikes.times and spikes.clusters"
   ]
  },
  {
   "cell_type": "code",
   "execution_count": null,
   "id": "98802da6",
   "metadata": {
    "execution": {
     "iopub.execute_input": "2021-09-02T14:45:22.546913Z",
     "iopub.status.busy": "2021-09-02T14:45:22.546913Z",
     "iopub.status.idle": "2021-09-02T14:45:22.556886Z",
     "shell.execute_reply": "2021-09-02T14:45:22.555888Z"
    }
   },
   "outputs": [],
   "source": [
    "eids = one.search(subject='SWC_043', dataset=['spikes.times', 'spikes.clusters'])\n",
    "pprint(eids)"
   ]
  },
  {
   "cell_type": "markdown",
   "id": "f89cd239",
   "metadata": {},
   "source": [
    "To find out more information about the `one.search` method we can use the help function"
   ]
  },
  {
   "cell_type": "code",
   "execution_count": null,
   "id": "98e5d825",
   "metadata": {
    "execution": {
     "iopub.execute_input": "2021-09-02T14:45:22.560532Z",
     "iopub.status.busy": "2021-09-02T14:45:22.560532Z",
     "iopub.status.idle": "2021-09-02T14:45:22.573401Z",
     "shell.execute_reply": "2021-09-02T14:45:22.572432Z"
    },
    "pycharm": {
     "name": "#%%\n"
    }
   },
   "outputs": [],
   "source": [
    "help(one.search)\n"
   ]
  }
 ],
 "metadata": {
  "docs_executed": "executed",
  "kernelspec": {
   "display_name": "Python [conda env:iblenv_new] *",
   "language": "python",
   "name": "conda-env-iblenv_new-py"
  },
  "language_info": {
   "codemirror_mode": {
    "name": "ipython",
    "version": 3
   },
   "file_extension": ".py",
   "mimetype": "text/x-python",
   "name": "python",
   "nbconvert_exporter": "python",
   "pygments_lexer": "ipython3",
   "version": "3.9.5"
  }
 },
 "nbformat": 4,
 "nbformat_minor": 5
}
