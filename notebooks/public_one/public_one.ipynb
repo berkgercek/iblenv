{
 "cells": [
  {
   "cell_type": "markdown",
   "id": "modified-broadway",
   "metadata": {},
   "source": [
    "# Exploring the public IBL data with ONE\n",
    "This tutorial will give an introduction into the publically available data and show how to download electrophysiology data for a probe insertion and display a simple raster plot"
   ]
  },
  {
   "cell_type": "markdown",
   "id": "narrative-chamber",
   "metadata": {},
   "source": [
    "First let's get started by importing the ONE module and connecting to the database"
   ]
  },
  {
   "cell_type": "code",
   "execution_count": null,
   "id": "unable-concentrate",
   "metadata": {},
   "outputs": [],
   "source": [
    "# Import one and connect to the database\n",
    "from one.api import ONE\n",
    "one = ONE(base_url='https://openalyx.internationalbrainlab.org', silent=True)"
   ]
  },
  {
   "cell_type": "markdown",
   "id": "monthly-alcohol",
   "metadata": {},
   "source": [
    "We want to see what probe insertions are available on the database. To list them we can use the following command"
   ]
  },
  {
   "cell_type": "code",
   "execution_count": null,
   "id": "varying-occupation",
   "metadata": {},
   "outputs": [],
   "source": [
    "probe_insertions = one.alyx.rest('insertions', 'list')"
   ]
  },
  {
   "cell_type": "markdown",
   "id": "italian-snapshot",
   "metadata": {},
   "source": [
    "We can find the number of probes insertions available and some information about the first probe"
   ]
  },
  {
   "cell_type": "code",
   "execution_count": null,
   "id": "devoted-radius",
   "metadata": {},
   "outputs": [],
   "source": [
    "from pprint import pprint\n",
    "print(f'N probes = {len(probe_insertions)}')\n",
    "pprint(probe_insertions[0])"
   ]
  },
  {
   "cell_type": "markdown",
   "id": "expected-effort",
   "metadata": {},
   "source": [
    "Each probe insertion has a unique ID (pid) that we can use to search the database and find the datasets that are linked to it. Let's look at the datasets associated with the first probe in the list"
   ]
  },
  {
   "cell_type": "code",
   "execution_count": null,
   "id": "distinct-installation",
   "metadata": {},
   "outputs": [],
   "source": [
    "pid = probe_insertions[0]['id']\n",
    "\n",
    "datasets = one.alyx.rest('datasets', 'list', probe_insertion=pid)\n",
    "print(f'N datasets = {len(datasets)}')\n",
    "pprint(datasets[0])"
   ]
  },
  {
   "cell_type": "markdown",
   "id": "automatic-lambda",
   "metadata": {},
   "source": [
    "To get a more concise summary of the datasets available we can loop through and display their names"
   ]
  },
  {
   "cell_type": "code",
   "execution_count": null,
   "id": "pending-macintosh",
   "metadata": {},
   "outputs": [],
   "source": [
    "dataset_names = [dset['name'] for dset in datasets]\n",
    "pprint(dataset_names)"
   ]
  },
  {
   "cell_type": "markdown",
   "id": "demanding-shore",
   "metadata": {},
   "source": [
    "We are interested in downloading the spikes datasets output from spike sorting in order to display a raster plot of the neural activity recorded on the probe. To download the data we can use the following approach"
   ]
  },
  {
   "cell_type": "code",
   "execution_count": null,
   "id": "inside-growing",
   "metadata": {},
   "outputs": [],
   "source": [
    "dtypes = ['spikes.times',\n",
    "          'spikes.depths',\n",
    "          'spikes.amps']\n",
    "eid, probe = one.pid2eid(pid)\n",
    "spikes = one.load_object(eid, 'spikes', collection=f'alf/{probe_insertions[0][\"name\"]}',attribute='times|depths|amps')"
   ]
  },
  {
   "cell_type": "markdown",
   "id": "boring-stretch",
   "metadata": {},
   "source": [
    "We can import a module from brainbox that plots the raster across time"
   ]
  },
  {
   "cell_type": "code",
   "execution_count": null,
   "id": "embedded-olive",
   "metadata": {},
   "outputs": [],
   "source": [
    "from brainbox.plot import driftmap\n",
    "driftmap(spikes['times'], spikes['depths'], t_bin=0.1, d_bin=5)"
   ]
  }
 ],
 "metadata": {
  "docs_executed": "executed",
  "kernelspec": {
   "display_name": "Python 3.7.4 64-bit ('iblenv': conda)",
   "language": "python",
   "name": "python37464bitiblenvcondabbacccb2779642e1877e2e94e551cc22"
  },
  "language_info": {
   "codemirror_mode": {
    "name": "ipython",
    "version": 3
   },
   "file_extension": ".py",
   "mimetype": "text/x-python",
   "name": "python",
   "nbconvert_exporter": "python",
   "pygments_lexer": "ipython3",
   "version": "3.7.7"
  }
 },
 "nbformat": 4,
 "nbformat_minor": 5
}
